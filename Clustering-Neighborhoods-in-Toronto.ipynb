{
 "cells": [
  {
   "cell_type": "markdown",
   "metadata": {},
   "source": [
    "## Introduction\n",
    "\n",
    "The project is to explore and cluster the neighborhoods in Toronto. In this project, we will learn how to scrape a webpage and manipulate the dataframe, how to convert addresses into their equivalent latitude and longitude values, as well as the visualization of clustering (neighborhoods).  "
   ]
  },
  {
   "cell_type": "markdown",
   "metadata": {},
   "source": [
    "## Part A.\n",
    "**To scrape a webpage and manipulate the dataframe**"
   ]
  },
  {
   "cell_type": "code",
   "execution_count": 1,
   "metadata": {},
   "outputs": [],
   "source": [
    "# import packages and mainly use bs4 function to perform the task.\n",
    "\n",
    "import urllib\n",
    "import requests \n",
    "from urllib.request import urlopen\n",
    "from bs4 import BeautifulSoup\n",
    "import pandas as pd\n",
    "import os,sys"
   ]
  },
  {
   "cell_type": "code",
   "execution_count": null,
   "metadata": {},
   "outputs": [],
   "source": [
    "os.getcwd()"
   ]
  },
  {
   "cell_type": "code",
   "execution_count": 24,
   "metadata": {},
   "outputs": [
    {
     "name": "stderr",
     "output_type": "stream",
     "text": [
      "C:\\ANACONDA\\lib\\site-packages\\bs4\\__init__.py:181: UserWarning: No parser was explicitly specified, so I'm using the best available HTML parser for this system (\"lxml\"). This usually isn't a problem, but if you run this code on another system, or in a different virtual environment, it may use a different parser and behave differently.\n",
      "\n",
      "The code that caused this warning is on line 193 of the file C:\\ANACONDA\\lib\\runpy.py. To get rid of this warning, change code that looks like this:\n",
      "\n",
      " BeautifulSoup(YOUR_MARKUP})\n",
      "\n",
      "to this:\n",
      "\n",
      " BeautifulSoup(YOUR_MARKUP, \"lxml\")\n",
      "\n",
      "  markup_type=markup_type))\n"
     ]
    }
   ],
   "source": [
    "# specify the given URL and target the specific webpage.\n",
    "\n",
    "URL = \"https://en.wikipedia.org/wiki/List_of_postal_codes_of_Canada:_M\"\n",
    "webpage = urlopen(URL)\n",
    "soup = BeautifulSoup(webpage)\n",
    "webpage.close()"
   ]
  },
  {
   "cell_type": "code",
   "execution_count": 25,
   "metadata": {},
   "outputs": [
    {
     "data": {
      "text/plain": [
       "'<!DOCTYPE html>\\n<html class=\"client-nojs\" lang=\"en\" dir=\"ltr\">\\n<head>\\n<meta charset=\"UTF-8\"/>\\n<title'"
      ]
     },
     "execution_count": 25,
     "metadata": {},
     "output_type": "execute_result"
    }
   ],
   "source": [
    "# Now play around to gain some idea as to show the source Wikipedia article\n",
    "\n",
    "article = requests.get(URL).text\n",
    "article[:100]"
   ]
  },
  {
   "cell_type": "code",
   "execution_count": 26,
   "metadata": {},
   "outputs": [
    {
     "data": {
      "text/plain": [
       "'<!DOCTYPE html>\\n<html class=\"client-nojs\" dir=\"ltr\" lang=\"en\">\\n <head>\\n  <meta charset=\"utf-8\"/>\\n  <'"
      ]
     },
     "execution_count": 26,
     "metadata": {},
     "output_type": "execute_result"
    }
   ],
   "source": [
    "# to parse the article and show the results\n",
    "\n",
    "# soup = BeautifulSoup(article, 'lxml')\n",
    "soup.prettify()[:100]\n",
    "\n",
    "# get the table of postal codes\n",
    "# table = soup.find('table')\n",
    "# table.prettify()[:100]"
   ]
  },
  {
   "cell_type": "markdown",
   "metadata": {},
   "source": [
    "To simplify - we create a new file on CWD. "
   ]
  },
  {
   "cell_type": "code",
   "execution_count": 27,
   "metadata": {},
   "outputs": [],
   "source": [
    "# to write a csv file locally\n",
    "\n",
    "newfile = open(\"postcode_canada.csv\",\"w\")\n",
    "tables = soup.findAll('table')\n",
    "\n",
    "tab = tables[0]\n",
    "\n",
    "for tr in tab.tbody.findAll('tr'):\n",
    "    for th in tr.findAll('th'):\n",
    "        text = th.getText().strip()+','\n",
    "        newfile.write(text)\n",
    "    for td in tr.findAll('td'):\n",
    "        text = td.getText().strip()+','\n",
    "        newfile.write(text)\n",
    "    newfile.write('\\n')\n",
    "    \n",
    "newfile.close()"
   ]
  },
  {
   "cell_type": "code",
   "execution_count": 28,
   "metadata": {},
   "outputs": [
    {
     "name": "stdout",
     "output_type": "stream",
     "text": [
      "(289, 3)\n"
     ]
    },
    {
     "data": {
      "text/html": [
       "<div>\n",
       "<style scoped>\n",
       "    .dataframe tbody tr th:only-of-type {\n",
       "        vertical-align: middle;\n",
       "    }\n",
       "\n",
       "    .dataframe tbody tr th {\n",
       "        vertical-align: top;\n",
       "    }\n",
       "\n",
       "    .dataframe thead th {\n",
       "        text-align: right;\n",
       "    }\n",
       "</style>\n",
       "<table border=\"1\" class=\"dataframe\">\n",
       "  <thead>\n",
       "    <tr style=\"text-align: right;\">\n",
       "      <th></th>\n",
       "      <th>Postcode</th>\n",
       "      <th>Borough</th>\n",
       "      <th>Neighbourhood</th>\n",
       "    </tr>\n",
       "  </thead>\n",
       "  <tbody>\n",
       "    <tr>\n",
       "      <th>0</th>\n",
       "      <td>M1A</td>\n",
       "      <td>Not assigned</td>\n",
       "      <td>Not assigned</td>\n",
       "    </tr>\n",
       "    <tr>\n",
       "      <th>1</th>\n",
       "      <td>M2A</td>\n",
       "      <td>Not assigned</td>\n",
       "      <td>Not assigned</td>\n",
       "    </tr>\n",
       "    <tr>\n",
       "      <th>2</th>\n",
       "      <td>M3A</td>\n",
       "      <td>North York</td>\n",
       "      <td>Parkwoods</td>\n",
       "    </tr>\n",
       "    <tr>\n",
       "      <th>3</th>\n",
       "      <td>M4A</td>\n",
       "      <td>North York</td>\n",
       "      <td>Victoria Village</td>\n",
       "    </tr>\n",
       "    <tr>\n",
       "      <th>4</th>\n",
       "      <td>M5A</td>\n",
       "      <td>Downtown Toronto</td>\n",
       "      <td>Harbourfront</td>\n",
       "    </tr>\n",
       "  </tbody>\n",
       "</table>\n",
       "</div>"
      ],
      "text/plain": [
       "  Postcode           Borough     Neighbourhood\n",
       "0      M1A      Not assigned      Not assigned\n",
       "1      M2A      Not assigned      Not assigned\n",
       "2      M3A        North York         Parkwoods\n",
       "3      M4A        North York  Victoria Village\n",
       "4      M5A  Downtown Toronto      Harbourfront"
      ]
     },
     "execution_count": 28,
     "metadata": {},
     "output_type": "execute_result"
    }
   ],
   "source": [
    "# now loading into dataframe and print out its rows and columns for the original data.\n",
    "\n",
    "df = pd.read_csv('postcode_canada.csv')\n",
    "df.drop('Unnamed: 3',axis=1,inplace = True)\n",
    "print(df.shape)\n",
    "df.head()"
   ]
  },
  {
   "cell_type": "code",
   "execution_count": 29,
   "metadata": {},
   "outputs": [
    {
     "name": "stdout",
     "output_type": "stream",
     "text": [
      "(212, 3)\n"
     ]
    },
    {
     "data": {
      "text/html": [
       "<div>\n",
       "<style scoped>\n",
       "    .dataframe tbody tr th:only-of-type {\n",
       "        vertical-align: middle;\n",
       "    }\n",
       "\n",
       "    .dataframe tbody tr th {\n",
       "        vertical-align: top;\n",
       "    }\n",
       "\n",
       "    .dataframe thead th {\n",
       "        text-align: right;\n",
       "    }\n",
       "</style>\n",
       "<table border=\"1\" class=\"dataframe\">\n",
       "  <thead>\n",
       "    <tr style=\"text-align: right;\">\n",
       "      <th></th>\n",
       "      <th>Postcode</th>\n",
       "      <th>Borough</th>\n",
       "      <th>Neighbourhood</th>\n",
       "    </tr>\n",
       "  </thead>\n",
       "  <tbody>\n",
       "    <tr>\n",
       "      <th>2</th>\n",
       "      <td>M3A</td>\n",
       "      <td>North York</td>\n",
       "      <td>Parkwoods</td>\n",
       "    </tr>\n",
       "    <tr>\n",
       "      <th>3</th>\n",
       "      <td>M4A</td>\n",
       "      <td>North York</td>\n",
       "      <td>Victoria Village</td>\n",
       "    </tr>\n",
       "    <tr>\n",
       "      <th>4</th>\n",
       "      <td>M5A</td>\n",
       "      <td>Downtown Toronto</td>\n",
       "      <td>Harbourfront</td>\n",
       "    </tr>\n",
       "    <tr>\n",
       "      <th>5</th>\n",
       "      <td>M5A</td>\n",
       "      <td>Downtown Toronto</td>\n",
       "      <td>Regent Park</td>\n",
       "    </tr>\n",
       "    <tr>\n",
       "      <th>6</th>\n",
       "      <td>M6A</td>\n",
       "      <td>North York</td>\n",
       "      <td>Lawrence Heights</td>\n",
       "    </tr>\n",
       "  </tbody>\n",
       "</table>\n",
       "</div>"
      ],
      "text/plain": [
       "  Postcode           Borough     Neighbourhood\n",
       "2      M3A        North York         Parkwoods\n",
       "3      M4A        North York  Victoria Village\n",
       "4      M5A  Downtown Toronto      Harbourfront\n",
       "5      M5A  Downtown Toronto       Regent Park\n",
       "6      M6A        North York  Lawrence Heights"
      ]
     },
     "execution_count": 29,
     "metadata": {},
     "output_type": "execute_result"
    }
   ],
   "source": [
    "# to ignore cells with a borough that is Not assigned\n",
    "\n",
    "new_df = df[ ~ df['Borough'].str.contains('Not assigned')]\n",
    "print(new_df.shape)\n",
    "new_df.head()"
   ]
  },
  {
   "cell_type": "markdown",
   "metadata": {},
   "source": [
    "Now combine the neighborhoods on the same row level if they have a same name of borough."
   ]
  },
  {
   "cell_type": "code",
   "execution_count": 30,
   "metadata": {},
   "outputs": [
    {
     "name": "stdout",
     "output_type": "stream",
     "text": [
      "(103, 3)\n"
     ]
    },
    {
     "data": {
      "text/html": [
       "<div>\n",
       "<style scoped>\n",
       "    .dataframe tbody tr th:only-of-type {\n",
       "        vertical-align: middle;\n",
       "    }\n",
       "\n",
       "    .dataframe tbody tr th {\n",
       "        vertical-align: top;\n",
       "    }\n",
       "\n",
       "    .dataframe thead th {\n",
       "        text-align: right;\n",
       "    }\n",
       "</style>\n",
       "<table border=\"1\" class=\"dataframe\">\n",
       "  <thead>\n",
       "    <tr style=\"text-align: right;\">\n",
       "      <th></th>\n",
       "      <th>Postcode</th>\n",
       "      <th>Borough</th>\n",
       "      <th>Neighbourhood</th>\n",
       "    </tr>\n",
       "  </thead>\n",
       "  <tbody>\n",
       "    <tr>\n",
       "      <th>98</th>\n",
       "      <td>M9N</td>\n",
       "      <td>York</td>\n",
       "      <td>Weston</td>\n",
       "    </tr>\n",
       "    <tr>\n",
       "      <th>99</th>\n",
       "      <td>M9P</td>\n",
       "      <td>Etobicoke</td>\n",
       "      <td>Westmount</td>\n",
       "    </tr>\n",
       "    <tr>\n",
       "      <th>100</th>\n",
       "      <td>M9R</td>\n",
       "      <td>Etobicoke</td>\n",
       "      <td>Kingsview Village, Martin Grove Gardens, Richv...</td>\n",
       "    </tr>\n",
       "    <tr>\n",
       "      <th>101</th>\n",
       "      <td>M9V</td>\n",
       "      <td>Etobicoke</td>\n",
       "      <td>Albion Gardens, Beaumond Heights, Humbergate, ...</td>\n",
       "    </tr>\n",
       "    <tr>\n",
       "      <th>102</th>\n",
       "      <td>M9W</td>\n",
       "      <td>Etobicoke</td>\n",
       "      <td>Northwest</td>\n",
       "    </tr>\n",
       "  </tbody>\n",
       "</table>\n",
       "</div>"
      ],
      "text/plain": [
       "    Postcode    Borough                                      Neighbourhood\n",
       "98       M9N       York                                             Weston\n",
       "99       M9P  Etobicoke                                          Westmount\n",
       "100      M9R  Etobicoke  Kingsview Village, Martin Grove Gardens, Richv...\n",
       "101      M9V  Etobicoke  Albion Gardens, Beaumond Heights, Humbergate, ...\n",
       "102      M9W  Etobicoke                                          Northwest"
      ]
     },
     "execution_count": 30,
     "metadata": {},
     "output_type": "execute_result"
    }
   ],
   "source": [
    "# using groupby and aggregated function and using comma as to separate the combined values. \n",
    "\n",
    "dfps = new_df.groupby(['Postcode','Borough'],as_index=False).agg(lambda x : x.sum() if x.dtype=='float64' else ', '.join(x))\n",
    "print(dfps.shape)\n",
    "dfps.tail()"
   ]
  },
  {
   "cell_type": "markdown",
   "metadata": {},
   "source": [
    "We don't want \"Not assigned\" as a value appeared in out dataset, so we do some change. "
   ]
  },
  {
   "cell_type": "code",
   "execution_count": 31,
   "metadata": {},
   "outputs": [],
   "source": [
    "#  to replace \"Not assigned\" in column 'Neighbourhood' with the value in 'Borough'.\n",
    "\n",
    "for i in range(len(dfps)):\n",
    "    dat_line=dfps.iloc[i,:]\n",
    "    if dat_line['Neighbourhood'] == 'Not assigned':\n",
    "        dat_line['Neighbourhood'] = dat_line['Borough']"
   ]
  },
  {
   "cell_type": "code",
   "execution_count": 32,
   "metadata": {},
   "outputs": [
    {
     "data": {
      "text/plain": [
       "Postcode                  M7A\n",
       "Borough          Queen's Park\n",
       "Neighbourhood    Queen's Park\n",
       "Name: 85, dtype: object"
      ]
     },
     "execution_count": 32,
     "metadata": {},
     "output_type": "execute_result"
    }
   ],
   "source": [
    "# check and verify if updated correctly. \n",
    "\n",
    "dfps.iloc[85,:]"
   ]
  },
  {
   "cell_type": "code",
   "execution_count": 33,
   "metadata": {},
   "outputs": [
    {
     "data": {
      "text/plain": [
       "(103, 3)"
      ]
     },
     "execution_count": 33,
     "metadata": {},
     "output_type": "execute_result"
    }
   ],
   "source": [
    "# print out its row-number and column-number. \n",
    "\n",
    "dfps.shape"
   ]
  },
  {
   "cell_type": "code",
   "execution_count": 34,
   "metadata": {},
   "outputs": [
    {
     "data": {
      "text/html": [
       "<div>\n",
       "<style scoped>\n",
       "    .dataframe tbody tr th:only-of-type {\n",
       "        vertical-align: middle;\n",
       "    }\n",
       "\n",
       "    .dataframe tbody tr th {\n",
       "        vertical-align: top;\n",
       "    }\n",
       "\n",
       "    .dataframe thead th {\n",
       "        text-align: right;\n",
       "    }\n",
       "</style>\n",
       "<table border=\"1\" class=\"dataframe\">\n",
       "  <thead>\n",
       "    <tr style=\"text-align: right;\">\n",
       "      <th></th>\n",
       "      <th>Postcode</th>\n",
       "      <th>Borough</th>\n",
       "      <th>Neighbourhood</th>\n",
       "    </tr>\n",
       "  </thead>\n",
       "  <tbody>\n",
       "    <tr>\n",
       "      <th>0</th>\n",
       "      <td>M1B</td>\n",
       "      <td>Scarborough</td>\n",
       "      <td>Rouge, Malvern</td>\n",
       "    </tr>\n",
       "    <tr>\n",
       "      <th>1</th>\n",
       "      <td>M1C</td>\n",
       "      <td>Scarborough</td>\n",
       "      <td>Highland Creek, Rouge Hill, Port Union</td>\n",
       "    </tr>\n",
       "    <tr>\n",
       "      <th>2</th>\n",
       "      <td>M1E</td>\n",
       "      <td>Scarborough</td>\n",
       "      <td>Guildwood, Morningside, West Hill</td>\n",
       "    </tr>\n",
       "    <tr>\n",
       "      <th>3</th>\n",
       "      <td>M1G</td>\n",
       "      <td>Scarborough</td>\n",
       "      <td>Woburn</td>\n",
       "    </tr>\n",
       "    <tr>\n",
       "      <th>4</th>\n",
       "      <td>M1H</td>\n",
       "      <td>Scarborough</td>\n",
       "      <td>Cedarbrae</td>\n",
       "    </tr>\n",
       "    <tr>\n",
       "      <th>5</th>\n",
       "      <td>M1J</td>\n",
       "      <td>Scarborough</td>\n",
       "      <td>Scarborough Village</td>\n",
       "    </tr>\n",
       "    <tr>\n",
       "      <th>6</th>\n",
       "      <td>M1K</td>\n",
       "      <td>Scarborough</td>\n",
       "      <td>East Birchmount Park, Ionview, Kennedy Park</td>\n",
       "    </tr>\n",
       "    <tr>\n",
       "      <th>7</th>\n",
       "      <td>M1L</td>\n",
       "      <td>Scarborough</td>\n",
       "      <td>Clairlea, Golden Mile, Oakridge</td>\n",
       "    </tr>\n",
       "    <tr>\n",
       "      <th>8</th>\n",
       "      <td>M1M</td>\n",
       "      <td>Scarborough</td>\n",
       "      <td>Cliffcrest, Cliffside, Scarborough Village West</td>\n",
       "    </tr>\n",
       "    <tr>\n",
       "      <th>9</th>\n",
       "      <td>M1N</td>\n",
       "      <td>Scarborough</td>\n",
       "      <td>Birch Cliff, Cliffside West</td>\n",
       "    </tr>\n",
       "    <tr>\n",
       "      <th>10</th>\n",
       "      <td>M1P</td>\n",
       "      <td>Scarborough</td>\n",
       "      <td>Dorset Park, Scarborough Town Centre, Wexford ...</td>\n",
       "    </tr>\n",
       "    <tr>\n",
       "      <th>11</th>\n",
       "      <td>M1R</td>\n",
       "      <td>Scarborough</td>\n",
       "      <td>Maryvale, Wexford</td>\n",
       "    </tr>\n",
       "  </tbody>\n",
       "</table>\n",
       "</div>"
      ],
      "text/plain": [
       "   Postcode      Borough                                      Neighbourhood\n",
       "0       M1B  Scarborough                                     Rouge, Malvern\n",
       "1       M1C  Scarborough             Highland Creek, Rouge Hill, Port Union\n",
       "2       M1E  Scarborough                  Guildwood, Morningside, West Hill\n",
       "3       M1G  Scarborough                                             Woburn\n",
       "4       M1H  Scarborough                                          Cedarbrae\n",
       "5       M1J  Scarborough                                Scarborough Village\n",
       "6       M1K  Scarborough        East Birchmount Park, Ionview, Kennedy Park\n",
       "7       M1L  Scarborough                    Clairlea, Golden Mile, Oakridge\n",
       "8       M1M  Scarborough    Cliffcrest, Cliffside, Scarborough Village West\n",
       "9       M1N  Scarborough                        Birch Cliff, Cliffside West\n",
       "10      M1P  Scarborough  Dorset Park, Scarborough Town Centre, Wexford ...\n",
       "11      M1R  Scarborough                                  Maryvale, Wexford"
      ]
     },
     "execution_count": 34,
     "metadata": {},
     "output_type": "execute_result"
    }
   ],
   "source": [
    "# display the dataset (-Part A.)\n",
    "\n",
    "dfps.head(12)"
   ]
  },
  {
   "cell_type": "markdown",
   "metadata": {},
   "source": [
    "## Part B.\n",
    "**To get the latitude and the longitude coordinates of each neighborhood**"
   ]
  },
  {
   "cell_type": "code",
   "execution_count": 35,
   "metadata": {},
   "outputs": [
    {
     "data": {
      "text/html": [
       "<div>\n",
       "<style scoped>\n",
       "    .dataframe tbody tr th:only-of-type {\n",
       "        vertical-align: middle;\n",
       "    }\n",
       "\n",
       "    .dataframe tbody tr th {\n",
       "        vertical-align: top;\n",
       "    }\n",
       "\n",
       "    .dataframe thead th {\n",
       "        text-align: right;\n",
       "    }\n",
       "</style>\n",
       "<table border=\"1\" class=\"dataframe\">\n",
       "  <thead>\n",
       "    <tr style=\"text-align: right;\">\n",
       "      <th></th>\n",
       "      <th>Postal Code</th>\n",
       "      <th>Latitude</th>\n",
       "      <th>Longitude</th>\n",
       "    </tr>\n",
       "  </thead>\n",
       "  <tbody>\n",
       "    <tr>\n",
       "      <th>0</th>\n",
       "      <td>M1B</td>\n",
       "      <td>43.806686</td>\n",
       "      <td>-79.194353</td>\n",
       "    </tr>\n",
       "    <tr>\n",
       "      <th>1</th>\n",
       "      <td>M1C</td>\n",
       "      <td>43.784535</td>\n",
       "      <td>-79.160497</td>\n",
       "    </tr>\n",
       "    <tr>\n",
       "      <th>2</th>\n",
       "      <td>M1E</td>\n",
       "      <td>43.763573</td>\n",
       "      <td>-79.188711</td>\n",
       "    </tr>\n",
       "    <tr>\n",
       "      <th>3</th>\n",
       "      <td>M1G</td>\n",
       "      <td>43.770992</td>\n",
       "      <td>-79.216917</td>\n",
       "    </tr>\n",
       "    <tr>\n",
       "      <th>4</th>\n",
       "      <td>M1H</td>\n",
       "      <td>43.773136</td>\n",
       "      <td>-79.239476</td>\n",
       "    </tr>\n",
       "  </tbody>\n",
       "</table>\n",
       "</div>"
      ],
      "text/plain": [
       "  Postal Code   Latitude  Longitude\n",
       "0         M1B  43.806686 -79.194353\n",
       "1         M1C  43.784535 -79.160497\n",
       "2         M1E  43.763573 -79.188711\n",
       "3         M1G  43.770992 -79.216917\n",
       "4         M1H  43.773136 -79.239476"
      ]
     },
     "execution_count": 35,
     "metadata": {},
     "output_type": "execute_result"
    }
   ],
   "source": [
    "# we use the given file to obtain the information. \n",
    "\n",
    "geo_df = pd.read_csv(\"Geospatial_Coordinates.csv\")\n",
    "geo_df.head()"
   ]
  },
  {
   "cell_type": "code",
   "execution_count": 36,
   "metadata": {},
   "outputs": [
    {
     "data": {
      "text/html": [
       "<div>\n",
       "<style scoped>\n",
       "    .dataframe tbody tr th:only-of-type {\n",
       "        vertical-align: middle;\n",
       "    }\n",
       "\n",
       "    .dataframe tbody tr th {\n",
       "        vertical-align: top;\n",
       "    }\n",
       "\n",
       "    .dataframe thead th {\n",
       "        text-align: right;\n",
       "    }\n",
       "</style>\n",
       "<table border=\"1\" class=\"dataframe\">\n",
       "  <thead>\n",
       "    <tr style=\"text-align: right;\">\n",
       "      <th></th>\n",
       "      <th>Postcode</th>\n",
       "      <th>Latitude</th>\n",
       "      <th>Longitude</th>\n",
       "    </tr>\n",
       "  </thead>\n",
       "  <tbody>\n",
       "    <tr>\n",
       "      <th>0</th>\n",
       "      <td>M1B</td>\n",
       "      <td>43.806686</td>\n",
       "      <td>-79.194353</td>\n",
       "    </tr>\n",
       "    <tr>\n",
       "      <th>1</th>\n",
       "      <td>M1C</td>\n",
       "      <td>43.784535</td>\n",
       "      <td>-79.160497</td>\n",
       "    </tr>\n",
       "    <tr>\n",
       "      <th>2</th>\n",
       "      <td>M1E</td>\n",
       "      <td>43.763573</td>\n",
       "      <td>-79.188711</td>\n",
       "    </tr>\n",
       "    <tr>\n",
       "      <th>3</th>\n",
       "      <td>M1G</td>\n",
       "      <td>43.770992</td>\n",
       "      <td>-79.216917</td>\n",
       "    </tr>\n",
       "    <tr>\n",
       "      <th>4</th>\n",
       "      <td>M1H</td>\n",
       "      <td>43.773136</td>\n",
       "      <td>-79.239476</td>\n",
       "    </tr>\n",
       "  </tbody>\n",
       "</table>\n",
       "</div>"
      ],
      "text/plain": [
       "  Postcode   Latitude  Longitude\n",
       "0      M1B  43.806686 -79.194353\n",
       "1      M1C  43.784535 -79.160497\n",
       "2      M1E  43.763573 -79.188711\n",
       "3      M1G  43.770992 -79.216917\n",
       "4      M1H  43.773136 -79.239476"
      ]
     },
     "execution_count": 36,
     "metadata": {},
     "output_type": "execute_result"
    }
   ],
   "source": [
    "# to change the 1st column name as to match the previous dataset.\n",
    "\n",
    "geo_df.rename(columns={'Postal Code':'Postcode'}, inplace = True)\n",
    "geo_df.head()"
   ]
  },
  {
   "cell_type": "code",
   "execution_count": 37,
   "metadata": {},
   "outputs": [
    {
     "data": {
      "text/html": [
       "<div>\n",
       "<style scoped>\n",
       "    .dataframe tbody tr th:only-of-type {\n",
       "        vertical-align: middle;\n",
       "    }\n",
       "\n",
       "    .dataframe tbody tr th {\n",
       "        vertical-align: top;\n",
       "    }\n",
       "\n",
       "    .dataframe thead th {\n",
       "        text-align: right;\n",
       "    }\n",
       "</style>\n",
       "<table border=\"1\" class=\"dataframe\">\n",
       "  <thead>\n",
       "    <tr style=\"text-align: right;\">\n",
       "      <th></th>\n",
       "      <th>Postcode</th>\n",
       "      <th>Borough</th>\n",
       "      <th>Neighbourhood</th>\n",
       "      <th>Latitude</th>\n",
       "      <th>Longitude</th>\n",
       "    </tr>\n",
       "  </thead>\n",
       "  <tbody>\n",
       "    <tr>\n",
       "      <th>0</th>\n",
       "      <td>M1B</td>\n",
       "      <td>Scarborough</td>\n",
       "      <td>Rouge, Malvern</td>\n",
       "      <td>43.806686</td>\n",
       "      <td>-79.194353</td>\n",
       "    </tr>\n",
       "    <tr>\n",
       "      <th>1</th>\n",
       "      <td>M1C</td>\n",
       "      <td>Scarborough</td>\n",
       "      <td>Highland Creek, Rouge Hill, Port Union</td>\n",
       "      <td>43.784535</td>\n",
       "      <td>-79.160497</td>\n",
       "    </tr>\n",
       "    <tr>\n",
       "      <th>2</th>\n",
       "      <td>M1E</td>\n",
       "      <td>Scarborough</td>\n",
       "      <td>Guildwood, Morningside, West Hill</td>\n",
       "      <td>43.763573</td>\n",
       "      <td>-79.188711</td>\n",
       "    </tr>\n",
       "    <tr>\n",
       "      <th>3</th>\n",
       "      <td>M1G</td>\n",
       "      <td>Scarborough</td>\n",
       "      <td>Woburn</td>\n",
       "      <td>43.770992</td>\n",
       "      <td>-79.216917</td>\n",
       "    </tr>\n",
       "    <tr>\n",
       "      <th>4</th>\n",
       "      <td>M1H</td>\n",
       "      <td>Scarborough</td>\n",
       "      <td>Cedarbrae</td>\n",
       "      <td>43.773136</td>\n",
       "      <td>-79.239476</td>\n",
       "    </tr>\n",
       "    <tr>\n",
       "      <th>5</th>\n",
       "      <td>M1J</td>\n",
       "      <td>Scarborough</td>\n",
       "      <td>Scarborough Village</td>\n",
       "      <td>43.744734</td>\n",
       "      <td>-79.239476</td>\n",
       "    </tr>\n",
       "    <tr>\n",
       "      <th>6</th>\n",
       "      <td>M1K</td>\n",
       "      <td>Scarborough</td>\n",
       "      <td>East Birchmount Park, Ionview, Kennedy Park</td>\n",
       "      <td>43.727929</td>\n",
       "      <td>-79.262029</td>\n",
       "    </tr>\n",
       "    <tr>\n",
       "      <th>7</th>\n",
       "      <td>M1L</td>\n",
       "      <td>Scarborough</td>\n",
       "      <td>Clairlea, Golden Mile, Oakridge</td>\n",
       "      <td>43.711112</td>\n",
       "      <td>-79.284577</td>\n",
       "    </tr>\n",
       "    <tr>\n",
       "      <th>8</th>\n",
       "      <td>M1M</td>\n",
       "      <td>Scarborough</td>\n",
       "      <td>Cliffcrest, Cliffside, Scarborough Village West</td>\n",
       "      <td>43.716316</td>\n",
       "      <td>-79.239476</td>\n",
       "    </tr>\n",
       "    <tr>\n",
       "      <th>9</th>\n",
       "      <td>M1N</td>\n",
       "      <td>Scarborough</td>\n",
       "      <td>Birch Cliff, Cliffside West</td>\n",
       "      <td>43.692657</td>\n",
       "      <td>-79.264848</td>\n",
       "    </tr>\n",
       "    <tr>\n",
       "      <th>10</th>\n",
       "      <td>M1P</td>\n",
       "      <td>Scarborough</td>\n",
       "      <td>Dorset Park, Scarborough Town Centre, Wexford ...</td>\n",
       "      <td>43.757410</td>\n",
       "      <td>-79.273304</td>\n",
       "    </tr>\n",
       "    <tr>\n",
       "      <th>11</th>\n",
       "      <td>M1R</td>\n",
       "      <td>Scarborough</td>\n",
       "      <td>Maryvale, Wexford</td>\n",
       "      <td>43.750072</td>\n",
       "      <td>-79.295849</td>\n",
       "    </tr>\n",
       "  </tbody>\n",
       "</table>\n",
       "</div>"
      ],
      "text/plain": [
       "   Postcode      Borough                                      Neighbourhood  \\\n",
       "0       M1B  Scarborough                                     Rouge, Malvern   \n",
       "1       M1C  Scarborough             Highland Creek, Rouge Hill, Port Union   \n",
       "2       M1E  Scarborough                  Guildwood, Morningside, West Hill   \n",
       "3       M1G  Scarborough                                             Woburn   \n",
       "4       M1H  Scarborough                                          Cedarbrae   \n",
       "5       M1J  Scarborough                                Scarborough Village   \n",
       "6       M1K  Scarborough        East Birchmount Park, Ionview, Kennedy Park   \n",
       "7       M1L  Scarborough                    Clairlea, Golden Mile, Oakridge   \n",
       "8       M1M  Scarborough    Cliffcrest, Cliffside, Scarborough Village West   \n",
       "9       M1N  Scarborough                        Birch Cliff, Cliffside West   \n",
       "10      M1P  Scarborough  Dorset Park, Scarborough Town Centre, Wexford ...   \n",
       "11      M1R  Scarborough                                  Maryvale, Wexford   \n",
       "\n",
       "     Latitude  Longitude  \n",
       "0   43.806686 -79.194353  \n",
       "1   43.784535 -79.160497  \n",
       "2   43.763573 -79.188711  \n",
       "3   43.770992 -79.216917  \n",
       "4   43.773136 -79.239476  \n",
       "5   43.744734 -79.239476  \n",
       "6   43.727929 -79.262029  \n",
       "7   43.711112 -79.284577  \n",
       "8   43.716316 -79.239476  \n",
       "9   43.692657 -79.264848  \n",
       "10  43.757410 -79.273304  \n",
       "11  43.750072 -79.295849  "
      ]
     },
     "execution_count": 37,
     "metadata": {},
     "output_type": "execute_result"
    }
   ],
   "source": [
    "# now merge the two related datasets and form a new dataframe.\n",
    "\n",
    "new_df = pd.merge(dfps, geo_df, on='Postcode')\n",
    "new_df.head(12)"
   ]
  },
  {
   "cell_type": "code",
   "execution_count": 38,
   "metadata": {},
   "outputs": [
    {
     "data": {
      "text/plain": [
       "(103, 5)"
      ]
     },
     "execution_count": 38,
     "metadata": {},
     "output_type": "execute_result"
    }
   ],
   "source": [
    "new_df.shape"
   ]
  },
  {
   "cell_type": "code",
   "execution_count": 39,
   "metadata": {},
   "outputs": [
    {
     "name": "stdout",
     "output_type": "stream",
     "text": [
      "The dataframe has 11 boroughs and 103 neighborhoods.\n"
     ]
    }
   ],
   "source": [
    "# print out the total boroughs and the neighborhoods associated with (Part B.)  \n",
    "\n",
    "print('The dataframe has {} boroughs and {} neighborhoods.'.format(\n",
    "        len(new_df['Borough'].unique()),\n",
    "        new_df.shape[0]\n",
    "    )\n",
    ")"
   ]
  },
  {
   "cell_type": "markdown",
   "metadata": {},
   "source": [
    "## Part C.\n",
    "**Use geopy library to get the latitude and longitude values of Toronto and to visualize the neighborhoods and see how they cluster together**"
   ]
  },
  {
   "cell_type": "code",
   "execution_count": 40,
   "metadata": {},
   "outputs": [
    {
     "name": "stderr",
     "output_type": "stream",
     "text": [
      "C:\\ANACONDA\\lib\\site-packages\\ipykernel_launcher.py:7: DeprecationWarning: Using Nominatim with the default \"geopy/1.18.1\" `user_agent` is strongly discouraged, as it violates Nominatim's ToS https://operations.osmfoundation.org/policies/nominatim/ and may possibly cause 403 and 429 HTTP errors. Please specify a custom `user_agent` with `Nominatim(user_agent=\"my-application\")` or by overriding the default `user_agent`: `geopy.geocoders.options.default_user_agent = \"my-application\"`. In geopy 2.0 this will become an exception.\n",
      "  import sys\n"
     ]
    },
    {
     "name": "stdout",
     "output_type": "stream",
     "text": [
      "The geograpical coordinate of Toronto are 43.653963, -79.387207.\n"
     ]
    }
   ],
   "source": [
    "##  to find the latitude & longitude of the city of Toronto.\n",
    "\n",
    "from geopy.geocoders import Nominatim\n",
    "\n",
    "address = 'Toronto, Canada'\n",
    "\n",
    "geolocator = Nominatim()\n",
    "location = geolocator.geocode(address)\n",
    "latitude = location.latitude\n",
    "longitude = location.longitude\n",
    "print('The geograpical coordinate of Toronto are {}, {}.'.format(latitude, longitude))"
   ]
  },
  {
   "cell_type": "code",
   "execution_count": 20,
   "metadata": {},
   "outputs": [
    {
     "name": "stdout",
     "output_type": "stream",
     "text": [
      "The geograpical coordinate of Toronto are 43.653963, -79.387207.\n"
     ]
    }
   ],
   "source": [
    "# Optional block...\n",
    "## In case of the Geocoder Python package unreliable... then run the following:\n",
    "\n",
    "latitude=43.653963\n",
    "longitude=-79.387207\n",
    "print('The geograpical coordinate of Toronto are {}, {}.'.format(latitude, longitude))"
   ]
  },
  {
   "cell_type": "code",
   "execution_count": 41,
   "metadata": {},
   "outputs": [],
   "source": [
    "#!conda install -c conda-forge folium=0.7.0 --yes \n",
    "import folium # map rendering librarypd.set_option('display.max_rows', None)"
   ]
  },
  {
   "cell_type": "code",
   "execution_count": 42,
   "metadata": {},
   "outputs": [
    {
     "data": {
      "text/html": [
       "<div style=\"width:100%;\"><div style=\"position:relative;width:100%;height:0;padding-bottom:60%;\"><iframe src=\"data:text/html;charset=utf-8;base64,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\" style=\"position:absolute;width:100%;height:100%;left:0;top:0;border:none !important;\" allowfullscreen webkitallowfullscreen mozallowfullscreen></iframe></div></div>"
      ],
      "text/plain": [
       "<folium.folium.Map at 0x95f3588>"
      ]
     },
     "execution_count": 42,
     "metadata": {},
     "output_type": "execute_result"
    }
   ],
   "source": [
    "# create map of Toronto using latitude and longitude values\n",
    "\n",
    "map_Toronto = folium.Map(location=[latitude, longitude], zoom_start=10)\n",
    "\n",
    "# add markers to map\n",
    "for lat, lng, borough, neighborhood in zip(new_df['Latitude'], new_df['Longitude'], new_df['Borough'], new_df['Neighbourhood']):\n",
    "    label = '{}, {}'.format(neighborhood, borough)\n",
    "    label = folium.Popup(label, parse_html=True)\n",
    "    folium.CircleMarker(\n",
    "        [lat, lng],\n",
    "        radius=5,\n",
    "        popup=label,\n",
    "        color='darkblue',\n",
    "        fill=True,\n",
    "        fill_color='#3186cc',\n",
    "        fill_opacity=0.7).add_to(map_Toronto)  \n",
    "    \n",
    "map_Toronto"
   ]
  },
  {
   "cell_type": "code",
   "execution_count": 43,
   "metadata": {},
   "outputs": [
    {
     "data": {
      "text/html": [
       "<div>\n",
       "<style scoped>\n",
       "    .dataframe tbody tr th:only-of-type {\n",
       "        vertical-align: middle;\n",
       "    }\n",
       "\n",
       "    .dataframe tbody tr th {\n",
       "        vertical-align: top;\n",
       "    }\n",
       "\n",
       "    .dataframe thead th {\n",
       "        text-align: right;\n",
       "    }\n",
       "</style>\n",
       "<table border=\"1\" class=\"dataframe\">\n",
       "  <thead>\n",
       "    <tr style=\"text-align: right;\">\n",
       "      <th></th>\n",
       "      <th>Postcode</th>\n",
       "      <th>Borough</th>\n",
       "      <th>Neighbourhood</th>\n",
       "      <th>Latitude</th>\n",
       "      <th>Longitude</th>\n",
       "    </tr>\n",
       "  </thead>\n",
       "  <tbody>\n",
       "    <tr>\n",
       "      <th>0</th>\n",
       "      <td>M2H</td>\n",
       "      <td>North York</td>\n",
       "      <td>Hillcrest Village</td>\n",
       "      <td>43.803762</td>\n",
       "      <td>-79.363452</td>\n",
       "    </tr>\n",
       "    <tr>\n",
       "      <th>1</th>\n",
       "      <td>M2J</td>\n",
       "      <td>North York</td>\n",
       "      <td>Fairview, Henry Farm, Oriole</td>\n",
       "      <td>43.778517</td>\n",
       "      <td>-79.346556</td>\n",
       "    </tr>\n",
       "    <tr>\n",
       "      <th>2</th>\n",
       "      <td>M2K</td>\n",
       "      <td>North York</td>\n",
       "      <td>Bayview Village</td>\n",
       "      <td>43.786947</td>\n",
       "      <td>-79.385975</td>\n",
       "    </tr>\n",
       "    <tr>\n",
       "      <th>3</th>\n",
       "      <td>M2L</td>\n",
       "      <td>North York</td>\n",
       "      <td>Silver Hills, York Mills</td>\n",
       "      <td>43.757490</td>\n",
       "      <td>-79.374714</td>\n",
       "    </tr>\n",
       "    <tr>\n",
       "      <th>4</th>\n",
       "      <td>M2M</td>\n",
       "      <td>North York</td>\n",
       "      <td>Newtonbrook, Willowdale</td>\n",
       "      <td>43.789053</td>\n",
       "      <td>-79.408493</td>\n",
       "    </tr>\n",
       "  </tbody>\n",
       "</table>\n",
       "</div>"
      ],
      "text/plain": [
       "  Postcode     Borough                 Neighbourhood   Latitude  Longitude\n",
       "0      M2H  North York             Hillcrest Village  43.803762 -79.363452\n",
       "1      M2J  North York  Fairview, Henry Farm, Oriole  43.778517 -79.346556\n",
       "2      M2K  North York               Bayview Village  43.786947 -79.385975\n",
       "3      M2L  North York      Silver Hills, York Mills  43.757490 -79.374714\n",
       "4      M2M  North York       Newtonbrook, Willowdale  43.789053 -79.408493"
      ]
     },
     "execution_count": 43,
     "metadata": {},
     "output_type": "execute_result"
    }
   ],
   "source": [
    "# let's simplify the above map and segment and cluster only the neighborhoods in Toronto. \n",
    "## let's slice the dataframe from Part B. and create a new dataframe of the North York data.\n",
    "\n",
    "north_york_data = new_df[new_df['Borough'] == 'North York'].reset_index(drop=True)\n",
    "north_york_data.head()"
   ]
  },
  {
   "cell_type": "markdown",
   "metadata": {},
   "source": [
    "**Let's get the geographical coordinates of North York (Toronto, Canada)**"
   ]
  },
  {
   "cell_type": "code",
   "execution_count": 44,
   "metadata": {},
   "outputs": [
    {
     "name": "stderr",
     "output_type": "stream",
     "text": [
      "C:\\ANACONDA\\lib\\site-packages\\ipykernel_launcher.py:3: DeprecationWarning: Using Nominatim with the default \"geopy/1.18.1\" `user_agent` is strongly discouraged, as it violates Nominatim's ToS https://operations.osmfoundation.org/policies/nominatim/ and may possibly cause 403 and 429 HTTP errors. Please specify a custom `user_agent` with `Nominatim(user_agent=\"my-application\")` or by overriding the default `user_agent`: `geopy.geocoders.options.default_user_agent = \"my-application\"`. In geopy 2.0 this will become an exception.\n",
      "  This is separate from the ipykernel package so we can avoid doing imports until\n"
     ]
    },
    {
     "name": "stdout",
     "output_type": "stream",
     "text": [
      "The geograpical coordinate of North York (Ontario, Canada) are 43.7709163, -79.4124102.\n"
     ]
    }
   ],
   "source": [
    "address = 'North York, Ontario'\n",
    "\n",
    "geolocator = Nominatim()\n",
    "location = geolocator.geocode(address)\n",
    "latitude1 = location.latitude\n",
    "longitude1 = location.longitude\n",
    "print('The geograpical coordinate of North York (Ontario, Canada) are {}, {}.'.format(latitude1, longitude1))"
   ]
  },
  {
   "cell_type": "code",
   "execution_count": 45,
   "metadata": {},
   "outputs": [
    {
     "data": {
      "text/html": [
       "<div style=\"width:100%;\"><div style=\"position:relative;width:100%;height:0;padding-bottom:60%;\"><iframe src=\"data:text/html;charset=utf-8;base64,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\" style=\"position:absolute;width:100%;height:100%;left:0;top:0;border:none !important;\" allowfullscreen webkitallowfullscreen mozallowfullscreen></iframe></div></div>"
      ],
      "text/plain": [
       "<folium.folium.Map at 0x96f6a90>"
      ]
     },
     "execution_count": 45,
     "metadata": {},
     "output_type": "execute_result"
    }
   ],
   "source": [
    "# create map of North York using the latitude1 and longitude1 values\n",
    "\n",
    "map_north_york = folium.Map(location=[latitude1, longitude1], zoom_start=11)\n",
    "\n",
    "# add markers to map\n",
    "for lat, lng, label in zip(north_york_data['Latitude'], north_york_data['Longitude'], north_york_data['Neighbourhood']):\n",
    "    label = folium.Popup(label, parse_html=True)\n",
    "    folium.CircleMarker(\n",
    "        [lat, lng],\n",
    "        radius=5,\n",
    "        popup=label,\n",
    "        color='blue',\n",
    "        fill=True,\n",
    "        fill_color='#3186cc',\n",
    "        fill_opacity=0.7).add_to(map_north_york)  \n",
    "    \n",
    "map_north_york"
   ]
  },
  {
   "cell_type": "markdown",
   "metadata": {},
   "source": [
    "**(The notebook included Part A, Part B and Part C only)**\n",
    "**This notebook was complete.  Thank you!**"
   ]
  }
 ],
 "metadata": {
  "kernelspec": {
   "display_name": "Python 3",
   "language": "python",
   "name": "python3"
  },
  "language_info": {
   "codemirror_mode": {
    "name": "ipython",
    "version": 3
   },
   "file_extension": ".py",
   "mimetype": "text/x-python",
   "name": "python",
   "nbconvert_exporter": "python",
   "pygments_lexer": "ipython3",
   "version": "3.6.5"
  }
 },
 "nbformat": 4,
 "nbformat_minor": 2
}
