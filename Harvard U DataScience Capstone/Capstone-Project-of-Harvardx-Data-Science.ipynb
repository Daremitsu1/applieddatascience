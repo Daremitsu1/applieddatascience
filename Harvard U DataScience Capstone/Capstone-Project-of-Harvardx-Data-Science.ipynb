{
 "cells": [
  {
   "cell_type": "markdown",
   "metadata": {},
   "source": [
    "# Capstone Project - Harvardx Data Science\n",
    "\n"
   ]
  },
  {
   "cell_type": "markdown",
   "metadata": {},
   "source": [
    "The Language Used for This Project: R"
   ]
  },
  {
   "cell_type": "markdown",
   "metadata": {},
   "source": [
    "## Executive Summary"
   ]
  },
  {
   "cell_type": "markdown",
   "metadata": {},
   "source": [
    "The dataset is originally from a database created in 1994, and it is available to download from Kaggle: https://www.kaggle.com/uciml/adult-census-income/. This project (the goal) is to answer an assumed business question - how can we predict an individual's annual income exceeds $50,000 or not - by using the given set of variables within the dataset?\n",
    "\n",
    "The dataset contained the worldwide information that are included age, education, marital status, occupation, race, sex, native country, hours per week, capital gain/loss, etc. We will first download the dataset from the Kaggle site, and then we do some manipulation included data cleaning, wrangling and transformation. The next important step is data exploratory & analysis. In this step, we will explore and analyze the related variables from the dataset. We will also find the supportive evidences on how the dependent variables effect our target independent variable. Finally we will use appropriate machine learning algorithms to build our models, and the models will be evaluated. \n",
    "\n",
    "We will use root mean squared error (RMSE) to assess performance."
   ]
  },
  {
   "cell_type": "markdown",
   "metadata": {},
   "source": [
    "\n",
    "#### Load the appropriate packages that we will use in this project"
   ]
  },
  {
   "cell_type": "code",
   "execution_count": null,
   "metadata": {},
   "outputs": [],
   "source": [
    "library(tidyverse)\n",
    "library(caret)\n",
    "library(matrixStats)\n",
    "library(vcd)\n",
    "library(scales)\n",
    "library(ggthemes)\n",
    "library(knitr)\n",
    "library(ggplot2)\n",
    "library(plyr)\n",
    "library(gridExtra)\n",
    "library(gmodels)\n",
    "library(grid)\n",
    "library(data.table)"
   ]
  },
  {
   "cell_type": "markdown",
   "metadata": {},
   "source": [
    "#### Download and read the data"
   ]
  },
  {
   "cell_type": "markdown",
   "metadata": {},
   "source": [
    "We will mark the missing value as \"NA\"."
   ]
  },
  {
   "cell_type": "code",
   "execution_count": 2,
   "metadata": {},
   "outputs": [
    {
     "name": "stderr",
     "output_type": "stream",
     "text": [
      "Warning message in unzip(temp, \"adult.csv\"):\n",
      "\"error 1 in extracting from zip file\""
     ]
    }
   ],
   "source": [
    "#############################################################\n",
    "# Create edx set, validation set, and submission file\n",
    "#############################################################\n",
    "\n",
    "\n",
    "# if(!require(tidyverse)) install.packages(\"tidyverse\", repos = \"http://cran.us.r-project.org\")\n",
    "# if(!require(caret)) install.packages(\"caret\", repos = \"http://cran.us.r-project.org\")\n",
    "\n",
    "# MovieLens 10M dataset:\n",
    "# https://grouplens.org/datasets/movielens/10m/\n",
    "# http://files.grouplens.org/datasets/movielens/ml-10m.zip\n",
    "\n",
    "\n",
    "temp <- tempfile()\n",
    "download.file(\"https://www.kaggle.com/uciml/adult-census-income/downloads/adult-census-income.zip/3\",temp, mode=\"wb\")\n",
    "unzip(temp, \"adult.csv\")\n",
    "\n",
    "# mark the missing value as NA\n",
    "incomeData <- read.table(\"adult.csv\",\n",
    "                       sep = \",\", skip=0,\n",
    "                       header = TRUE, \n",
    "                       na.strings = \"?\")\n",
    "            "
   ]
  },
  {
   "cell_type": "code",
   "execution_count": 3,
   "metadata": {},
   "outputs": [
    {
     "data": {
      "text/html": [
       "<ol class=list-inline>\n",
       "\t<li>32561</li>\n",
       "\t<li>15</li>\n",
       "</ol>\n"
      ],
      "text/latex": [
       "\\begin{enumerate*}\n",
       "\\item 32561\n",
       "\\item 15\n",
       "\\end{enumerate*}\n"
      ],
      "text/markdown": [
       "1. 32561\n",
       "2. 15\n",
       "\n",
       "\n"
      ],
      "text/plain": [
       "[1] 32561    15"
      ]
     },
     "metadata": {},
     "output_type": "display_data"
    }
   ],
   "source": [
    "# dataset rows & columns\n",
    "dim(incomeData)"
   ]
  },
  {
   "cell_type": "code",
   "execution_count": 4,
   "metadata": {},
   "outputs": [],
   "source": [
    "# for convenient, we rename some columns\n",
    "setnames(incomeData, old=c(\"education.num\",\"marital.status\",\"capital.gain\",\"capital.loss\",\"hours.per.week\",\"native.country\"), new=c(\"education_num\",\"marital_status\",\"capital_gain\",\"capital_loss\",\"hours_per_week\",\"native_country\"))"
   ]
  },
  {
   "cell_type": "code",
   "execution_count": 5,
   "metadata": {},
   "outputs": [
    {
     "data": {
      "text/html": [
       "<table>\n",
       "<thead><tr><th scope=col>age</th><th scope=col>workclass</th><th scope=col>fnlwgt</th><th scope=col>education</th><th scope=col>education_num</th><th scope=col>marital_status</th><th scope=col>occupation</th><th scope=col>relationship</th><th scope=col>race</th><th scope=col>sex</th><th scope=col>capital_gain</th><th scope=col>capital_loss</th><th scope=col>hours_per_week</th><th scope=col>native_country</th><th scope=col>income</th></tr></thead>\n",
       "<tbody>\n",
       "\t<tr><td>90                                                     </td><td><span style=white-space:pre-wrap>NA     </span>        </td><td> 77053                                                 </td><td><span style=white-space:pre-wrap>HS-grad     </span>   </td><td> 9                                                     </td><td>Widowed                                                </td><td><span style=white-space:pre-wrap>NA             </span></td><td>Not-in-family                                          </td><td>White                                                  </td><td>Female                                                 </td><td>0                                                      </td><td>4356                                                   </td><td>40                                                     </td><td>United-States                                          </td><td>&lt;=50K                                               </td></tr>\n",
       "\t<tr><td>82                                                  </td><td>Private                                             </td><td>132870                                              </td><td><span style=white-space:pre-wrap>HS-grad     </span></td><td> 9                                                  </td><td>Widowed                                             </td><td>Exec-managerial                                     </td><td>Not-in-family                                       </td><td>White                                               </td><td>Female                                              </td><td>0                                                   </td><td>4356                                                </td><td>18                                                  </td><td>United-States                                       </td><td>&lt;=50K                                            </td></tr>\n",
       "\t<tr><td>66                                                     </td><td><span style=white-space:pre-wrap>NA     </span>        </td><td>186061                                                 </td><td>Some-college                                           </td><td>10                                                     </td><td>Widowed                                                </td><td><span style=white-space:pre-wrap>NA             </span></td><td><span style=white-space:pre-wrap>Unmarried    </span>  </td><td>Black                                                  </td><td>Female                                                 </td><td>0                                                      </td><td>4356                                                   </td><td>40                                                     </td><td>United-States                                          </td><td>&lt;=50K                                               </td></tr>\n",
       "</tbody>\n",
       "</table>\n"
      ],
      "text/latex": [
       "\\begin{tabular}{r|lllllllllllllll}\n",
       " age & workclass & fnlwgt & education & education\\_num & marital\\_status & occupation & relationship & race & sex & capital\\_gain & capital\\_loss & hours\\_per\\_week & native\\_country & income\\\\\n",
       "\\hline\n",
       "\t 90              & NA              &  77053          & HS-grad         &  9              & Widowed         & NA              & Not-in-family   & White           & Female          & 0               & 4356            & 40              & United-States   & <=50K          \\\\\n",
       "\t 82              & Private         & 132870          & HS-grad         &  9              & Widowed         & Exec-managerial & Not-in-family   & White           & Female          & 0               & 4356            & 18              & United-States   & <=50K          \\\\\n",
       "\t 66              & NA              & 186061          & Some-college    & 10              & Widowed         & NA              & Unmarried       & Black           & Female          & 0               & 4356            & 40              & United-States   & <=50K          \\\\\n",
       "\\end{tabular}\n"
      ],
      "text/markdown": [
       "\n",
       "age | workclass | fnlwgt | education | education_num | marital_status | occupation | relationship | race | sex | capital_gain | capital_loss | hours_per_week | native_country | income | \n",
       "|---|---|---|\n",
       "| 90              | NA              |  77053          | HS-grad         |  9              | Widowed         | NA              | Not-in-family   | White           | Female          | 0               | 4356            | 40              | United-States   | <=50K           | \n",
       "| 82              | Private         | 132870          | HS-grad         |  9              | Widowed         | Exec-managerial | Not-in-family   | White           | Female          | 0               | 4356            | 18              | United-States   | <=50K           | \n",
       "| 66              | NA              | 186061          | Some-college    | 10              | Widowed         | NA              | Unmarried       | Black           | Female          | 0               | 4356            | 40              | United-States   | <=50K           | \n",
       "\n",
       "\n"
      ],
      "text/plain": [
       "  age workclass fnlwgt education    education_num marital_status\n",
       "1 90  NA         77053 HS-grad       9            Widowed       \n",
       "2 82  Private   132870 HS-grad       9            Widowed       \n",
       "3 66  NA        186061 Some-college 10            Widowed       \n",
       "  occupation      relationship  race  sex    capital_gain capital_loss\n",
       "1 NA              Not-in-family White Female 0            4356        \n",
       "2 Exec-managerial Not-in-family White Female 0            4356        \n",
       "3 NA              Unmarried     Black Female 0            4356        \n",
       "  hours_per_week native_country income\n",
       "1 40             United-States  <=50K \n",
       "2 18             United-States  <=50K \n",
       "3 40             United-States  <=50K "
      ]
     },
     "metadata": {},
     "output_type": "display_data"
    }
   ],
   "source": [
    "# view the first 3-rows of the dataframe\n",
    "incomeData[0:3,]"
   ]
  },
  {
   "cell_type": "code",
   "execution_count": 6,
   "metadata": {},
   "outputs": [
    {
     "name": "stdout",
     "output_type": "stream",
     "text": [
      "'data.frame':\t32561 obs. of  15 variables:\n",
      " $ age           : int  90 82 66 54 41 34 38 74 68 41 45 38 ...\n",
      " $ workclass     : Factor w/ 8 levels \"Federal-gov\",..: NA 4 NA 4 4 4 4 7 1 4 4 6 ...\n",
      " $ fnlwgt        : int  77053 132870 186061 140359 264663 216864 150601 88638 422013 70037 172274 164526 ...\n",
      " $ education     : Factor w/ 16 levels \"10th\",\"11th\",..: 12 12 16 6 16 12 1 11 12 16 11 15 ...\n",
      " $ education_num : int  9 9 10 4 10 9 6 16 9 10 16 15 ...\n",
      " $ marital_status: Factor w/ 7 levels \"Divorced\",\"Married-AF-spouse\",..: 7 7 7 1 6 1 6 5 1 5 1 5 ...\n",
      " $ occupation    : Factor w/ 14 levels \"Adm-clerical\",..: NA 4 NA 7 10 8 1 10 10 3 10 10 ...\n",
      " $ relationship  : Factor w/ 6 levels \"Husband\",\"Not-in-family\",..: 2 2 5 5 4 5 5 3 2 5 5 2 ...\n",
      " $ race          : Factor w/ 5 levels \"Amer-Indian-Eskimo\",..: 5 5 3 5 5 5 5 5 5 5 3 5 ...\n",
      " $ sex           : Factor w/ 2 levels \"Female\",\"Male\": 1 1 1 1 1 1 2 1 1 2 1 2 ...\n",
      " $ capital_gain  : int  0 0 0 0 0 0 0 0 0 0 0 0 ...\n",
      " $ capital_loss  : int  4356 4356 4356 3900 3900 3770 3770 3683 3683 3004 3004 2824 ...\n",
      " $ hours_per_week: int  40 18 40 40 40 45 40 20 40 60 35 45 ...\n",
      " $ native_country: Factor w/ 41 levels \"Cambodia\",\"Canada\",..: 39 39 39 39 39 39 39 39 39 NA 39 39 ...\n",
      " $ income        : Factor w/ 2 levels \"<=50K\",\">50K\": 1 1 1 1 1 1 1 2 1 2 2 2 ...\n"
     ]
    }
   ],
   "source": [
    "# the dataframe structure\n",
    "str(incomeData, vec.len = 5, strict.width = \"no\", width = 30)"
   ]
  },
  {
   "cell_type": "markdown",
   "metadata": {},
   "source": [
    "Now we know the data types of each given variables"
   ]
  },
  {
   "cell_type": "markdown",
   "metadata": {},
   "source": [
    "#### Data Cleaning & Wrangling "
   ]
  },
  {
   "cell_type": "code",
   "execution_count": 7,
   "metadata": {},
   "outputs": [],
   "source": [
    "# drop NA\n",
    "incomeData <- na.omit(incomeData)"
   ]
  },
  {
   "cell_type": "code",
   "execution_count": 8,
   "metadata": {
    "scrolled": true
   },
   "outputs": [
    {
     "name": "stdout",
     "output_type": "stream",
     "text": [
      "[1] 30162\n"
     ]
    },
    {
     "data": {
      "text/html": [
       "<table>\n",
       "<thead><tr><th scope=col>age</th><th scope=col>workclass</th><th scope=col>fnlwgt</th><th scope=col>education</th><th scope=col>education_num</th><th scope=col>marital_status</th><th scope=col>occupation</th><th scope=col>relationship</th><th scope=col>race</th><th scope=col>sex</th><th scope=col>capital_gain</th><th scope=col>capital_loss</th><th scope=col>hours_per_week</th><th scope=col>native_country</th><th scope=col>income</th></tr></thead>\n",
       "<tbody>\n",
       "\t<tr><td>82                                                       </td><td>Private                                                  </td><td>132870                                                   </td><td><span style=white-space:pre-wrap>HS-grad     </span>     </td><td> 9                                                       </td><td><span style=white-space:pre-wrap>Widowed  </span>        </td><td><span style=white-space:pre-wrap>Exec-managerial  </span></td><td>Not-in-family                                            </td><td>White                                                    </td><td>Female                                                   </td><td>0                                                        </td><td>4356                                                     </td><td>18                                                       </td><td>United-States                                            </td><td>&lt;=50K                                                 </td></tr>\n",
       "\t<tr><td>54                                                   </td><td>Private                                              </td><td>140359                                               </td><td><span style=white-space:pre-wrap>7th-8th     </span> </td><td> 4                                                   </td><td>Divorced                                             </td><td>Machine-op-inspct                                    </td><td><span style=white-space:pre-wrap>Unmarried    </span></td><td>White                                                </td><td>Female                                               </td><td>0                                                    </td><td>3900                                                 </td><td>40                                                   </td><td>United-States                                        </td><td>&lt;=50K                                             </td></tr>\n",
       "\t<tr><td>41                                                       </td><td>Private                                                  </td><td>264663                                                   </td><td>Some-college                                             </td><td>10                                                       </td><td>Separated                                                </td><td><span style=white-space:pre-wrap>Prof-specialty   </span></td><td><span style=white-space:pre-wrap>Own-child    </span>    </td><td>White                                                    </td><td>Female                                                   </td><td>0                                                        </td><td>3900                                                     </td><td>40                                                       </td><td>United-States                                            </td><td>&lt;=50K                                                 </td></tr>\n",
       "</tbody>\n",
       "</table>\n"
      ],
      "text/latex": [
       "\\begin{tabular}{r|lllllllllllllll}\n",
       " age & workclass & fnlwgt & education & education\\_num & marital\\_status & occupation & relationship & race & sex & capital\\_gain & capital\\_loss & hours\\_per\\_week & native\\_country & income\\\\\n",
       "\\hline\n",
       "\t 82                & Private           & 132870            & HS-grad           &  9                & Widowed           & Exec-managerial   & Not-in-family     & White             & Female            & 0                 & 4356              & 18                & United-States     & <=50K            \\\\\n",
       "\t 54                & Private           & 140359            & 7th-8th           &  4                & Divorced          & Machine-op-inspct & Unmarried         & White             & Female            & 0                 & 3900              & 40                & United-States     & <=50K            \\\\\n",
       "\t 41                & Private           & 264663            & Some-college      & 10                & Separated         & Prof-specialty    & Own-child         & White             & Female            & 0                 & 3900              & 40                & United-States     & <=50K            \\\\\n",
       "\\end{tabular}\n"
      ],
      "text/markdown": [
       "\n",
       "age | workclass | fnlwgt | education | education_num | marital_status | occupation | relationship | race | sex | capital_gain | capital_loss | hours_per_week | native_country | income | \n",
       "|---|---|---|\n",
       "| 82                | Private           | 132870            | HS-grad           |  9                | Widowed           | Exec-managerial   | Not-in-family     | White             | Female            | 0                 | 4356              | 18                | United-States     | <=50K             | \n",
       "| 54                | Private           | 140359            | 7th-8th           |  4                | Divorced          | Machine-op-inspct | Unmarried         | White             | Female            | 0                 | 3900              | 40                | United-States     | <=50K             | \n",
       "| 41                | Private           | 264663            | Some-college      | 10                | Separated         | Prof-specialty    | Own-child         | White             | Female            | 0                 | 3900              | 40                | United-States     | <=50K             | \n",
       "\n",
       "\n"
      ],
      "text/plain": [
       "  age workclass fnlwgt education    education_num marital_status\n",
       "1 82  Private   132870 HS-grad       9            Widowed       \n",
       "2 54  Private   140359 7th-8th       4            Divorced      \n",
       "3 41  Private   264663 Some-college 10            Separated     \n",
       "  occupation        relationship  race  sex    capital_gain capital_loss\n",
       "1 Exec-managerial   Not-in-family White Female 0            4356        \n",
       "2 Machine-op-inspct Unmarried     White Female 0            3900        \n",
       "3 Prof-specialty    Own-child     White Female 0            3900        \n",
       "  hours_per_week native_country income\n",
       "1 18             United-States  <=50K \n",
       "2 40             United-States  <=50K \n",
       "3 40             United-States  <=50K "
      ]
     },
     "metadata": {},
     "output_type": "display_data"
    }
   ],
   "source": [
    "# re-enumerate the rows\n",
    "row.names(incomeData) <- 1:nrow(incomeData)\n",
    "print(dim(incomeData)[1])\n",
    "incomeData[0:3,]"
   ]
  },
  {
   "cell_type": "markdown",
   "metadata": {},
   "source": [
    "We take a look at variable \"hours per week\" and see what's the mean number"
   ]
  },
  {
   "cell_type": "code",
   "execution_count": 9,
   "metadata": {},
   "outputs": [
    {
     "data": {
      "text/plain": [
       "   Min. 1st Qu.  Median    Mean 3rd Qu.    Max. \n",
       "   1.00   40.00   40.00   40.93   45.00   99.00 "
      ]
     },
     "metadata": {},
     "output_type": "display_data"
    }
   ],
   "source": [
    "summary(incomeData$hours_per_week)"
   ]
  },
  {
   "cell_type": "markdown",
   "metadata": {},
   "source": [
    "In order to find the correlation coefficient, we will add two columns: incomeN1 & incomeN2, but we'll drop them later"
   ]
  },
  {
   "cell_type": "code",
   "execution_count": 10,
   "metadata": {},
   "outputs": [],
   "source": [
    "incomeData$incomeN1 <- incomeData$income\n",
    "levels(incomeData$incomeN1) <- c(0,1)\n",
    "incomeData$incomeN2 <- as.numeric(levels(incomeData$incomeN1))[incomeData$incomeN1]"
   ]
  },
  {
   "cell_type": "code",
   "execution_count": 11,
   "metadata": {},
   "outputs": [
    {
     "data": {
      "text/html": [
       "0.22948012988851"
      ],
      "text/latex": [
       "0.22948012988851"
      ],
      "text/markdown": [
       "0.22948012988851"
      ],
      "text/plain": [
       "[1] 0.2294801"
      ]
     },
     "metadata": {},
     "output_type": "display_data"
    }
   ],
   "source": [
    "cor(incomeData$hours_per_week, incomeData$incomeN2, method = \"pearson\")"
   ]
  },
  {
   "cell_type": "markdown",
   "metadata": {},
   "source": [
    "We now know variable \"hours_per_week\" and \"income\" are correlated, so we transform the column into a new factor variable \"dif_hours\""
   ]
  },
  {
   "cell_type": "code",
   "execution_count": 12,
   "metadata": {},
   "outputs": [],
   "source": [
    "incomeData$dif_hours[incomeData$hours_per_week < 40] <- \"less_than_40h\"\n",
    "incomeData$dif_hours[incomeData$hours_per_week >= 40 & incomeData$hours_per_week <= 45] <- \"between_40h_and_45h\"\n",
    "incomeData$dif_hours[incomeData$hours_per_week > 45 & incomeData$hours_per_week <= 60  ] <- \"between_45h_and_60h\"\n",
    "incomeData$dif_hours[incomeData$hours_per_week > 60 & incomeData$hours_per_week <= 80  ] <- \"between_60h_and_80h\"\n",
    "incomeData$dif_hours[incomeData$hours_per_week > 80] <- \"more_than_80h\""
   ]
  },
  {
   "cell_type": "code",
   "execution_count": 13,
   "metadata": {},
   "outputs": [],
   "source": [
    "incomeData$dif_hours <- factor(incomeData$dif_hours, ordered = FALSE, \n",
    "                               levels = c(\"less_than_40h\", \"between_40h_and_45h\",\"between_45h_and_60h\",\n",
    "                                      \"between_60h_and_80h\",\"more_than_80h\"))"
   ]
  },
  {
   "cell_type": "code",
   "execution_count": 14,
   "metadata": {},
   "outputs": [
    {
     "data": {
      "text/html": [
       "<dl class=dl-horizontal>\n",
       "\t<dt>less_than_40h</dt>\n",
       "\t\t<dd>6714</dd>\n",
       "\t<dt>between_40h_and_45h</dt>\n",
       "\t\t<dd>16606</dd>\n",
       "\t<dt>between_45h_and_60h</dt>\n",
       "\t\t<dd>5790</dd>\n",
       "\t<dt>between_60h_and_80h</dt>\n",
       "\t\t<dd>857</dd>\n",
       "\t<dt>more_than_80h</dt>\n",
       "\t\t<dd>195</dd>\n",
       "</dl>\n"
      ],
      "text/latex": [
       "\\begin{description*}\n",
       "\\item[less\\textbackslash{}\\_than\\textbackslash{}\\_40h] 6714\n",
       "\\item[between\\textbackslash{}\\_40h\\textbackslash{}\\_and\\textbackslash{}\\_45h] 16606\n",
       "\\item[between\\textbackslash{}\\_45h\\textbackslash{}\\_and\\textbackslash{}\\_60h] 5790\n",
       "\\item[between\\textbackslash{}\\_60h\\textbackslash{}\\_and\\textbackslash{}\\_80h] 857\n",
       "\\item[more\\textbackslash{}\\_than\\textbackslash{}\\_80h] 195\n",
       "\\end{description*}\n"
      ],
      "text/markdown": [
       "less_than_40h\n",
       ":   6714between_40h_and_45h\n",
       ":   16606between_45h_and_60h\n",
       ":   5790between_60h_and_80h\n",
       ":   857more_than_80h\n",
       ":   195\n",
       "\n"
      ],
      "text/plain": [
       "      less_than_40h between_40h_and_45h between_45h_and_60h between_60h_and_80h \n",
       "               6714               16606                5790                 857 \n",
       "      more_than_80h \n",
       "                195 "
      ]
     },
     "metadata": {},
     "output_type": "display_data"
    }
   ],
   "source": [
    "# summarize the derived factor variable\n",
    "summary(incomeData$dif_hours)"
   ]
  },
  {
   "cell_type": "code",
   "execution_count": 15,
   "metadata": {},
   "outputs": [
    {
     "name": "stdout",
     "output_type": "stream",
     "text": [
      "less_than_40h \n",
      "        22.26 \n",
      "between_40h_and_45h \n",
      "              55.06 \n",
      "between_45h_and_60h \n",
      "               19.2 \n",
      "between_60h_and_80h \n",
      "               2.84 \n",
      "more_than_80h \n",
      "         0.65 \n"
     ]
    }
   ],
   "source": [
    "# percentages of each level\n",
    "for(i in 1:length(summary(incomeData$dif_hours))){    \n",
    "   print(round(100*summary(incomeData$dif_hours)[i]/sum(!is.na(incomeData$dif_hours)), 2)) }"
   ]
  },
  {
   "cell_type": "markdown",
   "metadata": {},
   "source": [
    "Now we simply repeat the pre-process onto other correlated variables"
   ]
  },
  {
   "cell_type": "code",
   "execution_count": 16,
   "metadata": {},
   "outputs": [
    {
     "data": {
      "text/html": [
       "<ol class=list-inline>\n",
       "\t<li>'Taiwan'</li>\n",
       "\t<li>'Thailand'</li>\n",
       "\t<li>'Trinadad&amp;Tobago'</li>\n",
       "\t<li>'United-States'</li>\n",
       "\t<li>'Vietnam'</li>\n",
       "\t<li>'Yugoslavia'</li>\n",
       "</ol>\n"
      ],
      "text/latex": [
       "\\begin{enumerate*}\n",
       "\\item 'Taiwan'\n",
       "\\item 'Thailand'\n",
       "\\item 'Trinadad\\&Tobago'\n",
       "\\item 'United-States'\n",
       "\\item 'Vietnam'\n",
       "\\item 'Yugoslavia'\n",
       "\\end{enumerate*}\n"
      ],
      "text/markdown": [
       "1. 'Taiwan'\n",
       "2. 'Thailand'\n",
       "3. 'Trinadad&amp;Tobago'\n",
       "4. 'United-States'\n",
       "5. 'Vietnam'\n",
       "6. 'Yugoslavia'\n",
       "\n",
       "\n"
      ],
      "text/plain": [
       "[1] \"Taiwan\"          \"Thailand\"        \"Trinadad&Tobago\" \"United-States\"  \n",
       "[5] \"Vietnam\"         \"Yugoslavia\"     "
      ]
     },
     "metadata": {},
     "output_type": "display_data"
    }
   ],
   "source": [
    "levels(incomeData$native_country)[36:41]"
   ]
  },
  {
   "cell_type": "code",
   "execution_count": 17,
   "metadata": {},
   "outputs": [],
   "source": [
    "America <- c(\"Cuba\", \"Guatemala\", \"Jamaica\", \"Nicaragua\", \"Puerto-Rico\",  \"Dominican-Republic\", \"El-Salvador\", \n",
    "                     \"Haiti\", \"Honduras\", \"Mexico\", \"Trinadad&Tobago\", \"Ecuador\", \"Peru\", \"Columbia\")\n",
    "Asia <- c(\"Cambodia\", \"China\", \"Hong\", \"Laos\", \"Thailand\", \"Japan\", \"Taiwan\", \"Vietnam\", \"India\", \"Iran\")\n",
    "Europe <- c(\"England\", \"Germany\", \"Holand-Netherlands\", \"Ireland\", \n",
    "                   \"France\", \"Greece\", \"Italy\", \"Portugal\", \"Scotland\", \"Poland\", \"Yugoslavia\", \"Hungary\")"
   ]
  },
  {
   "cell_type": "code",
   "execution_count": 18,
   "metadata": {},
   "outputs": [],
   "source": [
    "incomeData <- mutate(incomeData, native_region = ifelse(native_country %in% Asia, \"Asia\",                                           \n",
    "                                                 ifelse(native_country %in% America, \"America\",\n",
    "                                                 ifelse(native_country %in% Europe, \"Europe\",\n",
    "                                                 ifelse(native_country == \"United-States\", \"United-States\", \n",
    "                                                                          \"Outlying-US\" )))))"
   ]
  },
  {
   "cell_type": "code",
   "execution_count": 19,
   "metadata": {
    "scrolled": true
   },
   "outputs": [
    {
     "data": {
      "text/html": [
       "<table>\n",
       "<thead><tr><th scope=col>age</th><th scope=col>workclass</th><th scope=col>fnlwgt</th><th scope=col>education</th><th scope=col>education_num</th><th scope=col>marital_status</th><th scope=col>occupation</th><th scope=col>relationship</th><th scope=col>race</th><th scope=col>sex</th><th scope=col>capital_gain</th><th scope=col>capital_loss</th><th scope=col>hours_per_week</th><th scope=col>native_country</th><th scope=col>income</th><th scope=col>incomeN1</th><th scope=col>incomeN2</th><th scope=col>dif_hours</th><th scope=col>native_region</th></tr></thead>\n",
       "<tbody>\n",
       "\t<tr><td>82                                                         </td><td>Private                                                    </td><td>132870                                                     </td><td><span style=white-space:pre-wrap>HS-grad     </span>       </td><td> 9                                                         </td><td><span style=white-space:pre-wrap>Widowed  </span>          </td><td><span style=white-space:pre-wrap>Exec-managerial  </span>  </td><td>Not-in-family                                              </td><td>White                                                      </td><td>Female                                                     </td><td>0                                                          </td><td>4356                                                       </td><td>18                                                         </td><td>United-States                                              </td><td>&lt;=50K                                                   </td><td>0                                                          </td><td>0                                                          </td><td><span style=white-space:pre-wrap>less_than_40h      </span></td><td>United-States                                              </td></tr>\n",
       "\t<tr><td>54                                                   </td><td>Private                                              </td><td>140359                                               </td><td><span style=white-space:pre-wrap>7th-8th     </span> </td><td> 4                                                   </td><td>Divorced                                             </td><td>Machine-op-inspct                                    </td><td><span style=white-space:pre-wrap>Unmarried    </span></td><td>White                                                </td><td>Female                                               </td><td>0                                                    </td><td>3900                                                 </td><td>40                                                   </td><td>United-States                                        </td><td>&lt;=50K                                             </td><td>0                                                    </td><td>0                                                    </td><td>between_40h_and_45h                                  </td><td>United-States                                        </td></tr>\n",
       "\t<tr><td>41                                                       </td><td>Private                                                  </td><td>264663                                                   </td><td>Some-college                                             </td><td>10                                                       </td><td>Separated                                                </td><td><span style=white-space:pre-wrap>Prof-specialty   </span></td><td><span style=white-space:pre-wrap>Own-child    </span>    </td><td>White                                                    </td><td>Female                                                   </td><td>0                                                        </td><td>3900                                                     </td><td>40                                                       </td><td>United-States                                            </td><td>&lt;=50K                                                 </td><td>0                                                        </td><td>0                                                        </td><td>between_40h_and_45h                                      </td><td>United-States                                            </td></tr>\n",
       "</tbody>\n",
       "</table>\n"
      ],
      "text/latex": [
       "\\begin{tabular}{r|lllllllllllllllllll}\n",
       " age & workclass & fnlwgt & education & education\\_num & marital\\_status & occupation & relationship & race & sex & capital\\_gain & capital\\_loss & hours\\_per\\_week & native\\_country & income & incomeN1 & incomeN2 & dif\\_hours & native\\_region\\\\\n",
       "\\hline\n",
       "\t 82                      & Private                 & 132870                  & HS-grad                 &  9                      & Widowed                 & Exec-managerial         & Not-in-family           & White                   & Female                  & 0                       & 4356                    & 18                      & United-States           & <=50K                   & 0                       & 0                       & less\\_than\\_40h       & United-States          \\\\\n",
       "\t 54                        & Private                   & 140359                    & 7th-8th                   &  4                        & Divorced                  & Machine-op-inspct         & Unmarried                 & White                     & Female                    & 0                         & 3900                      & 40                        & United-States             & <=50K                     & 0                         & 0                         & between\\_40h\\_and\\_45h & United-States            \\\\\n",
       "\t 41                        & Private                   & 264663                    & Some-college              & 10                        & Separated                 & Prof-specialty            & Own-child                 & White                     & Female                    & 0                         & 3900                      & 40                        & United-States             & <=50K                     & 0                         & 0                         & between\\_40h\\_and\\_45h & United-States            \\\\\n",
       "\\end{tabular}\n"
      ],
      "text/markdown": [
       "\n",
       "age | workclass | fnlwgt | education | education_num | marital_status | occupation | relationship | race | sex | capital_gain | capital_loss | hours_per_week | native_country | income | incomeN1 | incomeN2 | dif_hours | native_region | \n",
       "|---|---|---|\n",
       "| 82                  | Private             | 132870              | HS-grad             |  9                  | Widowed             | Exec-managerial     | Not-in-family       | White               | Female              | 0                   | 4356                | 18                  | United-States       | <=50K               | 0                   | 0                   | less_than_40h       | United-States       | \n",
       "| 54                  | Private             | 140359              | 7th-8th             |  4                  | Divorced            | Machine-op-inspct   | Unmarried           | White               | Female              | 0                   | 3900                | 40                  | United-States       | <=50K               | 0                   | 0                   | between_40h_and_45h | United-States       | \n",
       "| 41                  | Private             | 264663              | Some-college        | 10                  | Separated           | Prof-specialty      | Own-child           | White               | Female              | 0                   | 3900                | 40                  | United-States       | <=50K               | 0                   | 0                   | between_40h_and_45h | United-States       | \n",
       "\n",
       "\n"
      ],
      "text/plain": [
       "  age workclass fnlwgt education    education_num marital_status\n",
       "1 82  Private   132870 HS-grad       9            Widowed       \n",
       "2 54  Private   140359 7th-8th       4            Divorced      \n",
       "3 41  Private   264663 Some-college 10            Separated     \n",
       "  occupation        relationship  race  sex    capital_gain capital_loss\n",
       "1 Exec-managerial   Not-in-family White Female 0            4356        \n",
       "2 Machine-op-inspct Unmarried     White Female 0            3900        \n",
       "3 Prof-specialty    Own-child     White Female 0            3900        \n",
       "  hours_per_week native_country income incomeN1 incomeN2 dif_hours          \n",
       "1 18             United-States  <=50K  0        0        less_than_40h      \n",
       "2 40             United-States  <=50K  0        0        between_40h_and_45h\n",
       "3 40             United-States  <=50K  0        0        between_40h_and_45h\n",
       "  native_region\n",
       "1 United-States\n",
       "2 United-States\n",
       "3 United-States"
      ]
     },
     "metadata": {},
     "output_type": "display_data"
    }
   ],
   "source": [
    "incomeData$native_region <- factor(incomeData$native_region, ordered = FALSE)\n",
    "incomeData[0:3,]"
   ]
  },
  {
   "cell_type": "markdown",
   "metadata": {},
   "source": [
    "And onto variable \"capital_gain\" & variable \"capital_loss\""
   ]
  },
  {
   "cell_type": "code",
   "execution_count": 20,
   "metadata": {},
   "outputs": [
    {
     "data": {
      "text/plain": [
       "   Min. 1st Qu.  Median    Mean 3rd Qu.    Max. \n",
       "      0       0       0    1092       0   99999 "
      ]
     },
     "metadata": {},
     "output_type": "display_data"
    },
    {
     "data": {
      "text/plain": [
       "   Min. 1st Qu.  Median    Mean 3rd Qu.    Max. \n",
       "   0.00    0.00    0.00   88.37    0.00 4356.00 "
      ]
     },
     "metadata": {},
     "output_type": "display_data"
    }
   ],
   "source": [
    "summary(incomeData$capital_gain)\n",
    "summary(incomeData$capital_loss)"
   ]
  },
  {
   "cell_type": "code",
   "execution_count": 21,
   "metadata": {},
   "outputs": [
    {
     "data": {
      "text/plain": [
       "\n",
       "\n",
       "| AVG_Capital_Gain| AVG_Capital_Loss|\n",
       "|----------------:|----------------:|\n",
       "|         1092.008|         88.37249|"
      ]
     },
     "metadata": {},
     "output_type": "display_data"
    }
   ],
   "source": [
    "# the mean values on both variables\n",
    "avg_gain <- mean(incomeData$capital_gain)\n",
    "avg_loss <- mean(incomeData$capital_loss)\n",
    "kable(data.frame(AVG_Capital_Gain = avg_gain, AVG_Capital_Loss = avg_loss), \n",
    "      caption = \"Zero Values Included of AVG Capital\")"
   ]
  },
  {
   "cell_type": "code",
   "execution_count": 22,
   "metadata": {},
   "outputs": [
    {
     "data": {
      "text/plain": [
       "\n",
       "\n",
       "| AVG_Capital_Gain| AVG_Capital_Loss|\n",
       "|----------------:|----------------:|\n",
       "|          12977.6|         1867.898|"
      ]
     },
     "metadata": {},
     "output_type": "display_data"
    }
   ],
   "source": [
    "# the mean without zero values\n",
    "avg_gain <- mean(subset(incomeData$capital_gain, incomeData$capital_gain > 0))\n",
    "avg_loss <- mean(subset(incomeData$capital_loss, incomeData$capital_loss > 0))\n",
    "kable(data.frame(AVG_Capital_Gain = avg_gain, AVG_Capital_Loss = avg_loss), caption = \"NonZero AVG Capital Values\")"
   ]
  },
  {
   "cell_type": "code",
   "execution_count": 23,
   "metadata": {},
   "outputs": [
    {
     "data": {
      "text/plain": [
       "\n",
       "\n",
       "|     | Capital_Gain| Capital_Loss|\n",
       "|:----|------------:|------------:|\n",
       "|0%   |          114|          155|\n",
       "|25%  |         3464|         1672|\n",
       "|50%  |         7298|         1887|\n",
       "|75%  |        14084|         1977|\n",
       "|100% |        99999|         4356|"
      ]
     },
     "metadata": {},
     "output_type": "display_data"
    }
   ],
   "source": [
    "# We list the IQR of the nonzero values on both and use them as reference when derived new factor variables\n",
    "interquartile_gain <- IQR(subset(incomeData$capital_gain, incomeData$capital_gain > 0))\n",
    "interquartile_loss <- IQR(subset(incomeData$capital_loss, incomeData$capital_loss > 0))\n",
    "gain_quartile <- quantile(x = subset(incomeData$capital_gain, incomeData$capital_gain > 0), probs = seq(0, 1, 0.25))\n",
    "loss_quartile <- quantile(x = subset(incomeData$capital_loss, incomeData$capital_loss > 0), probs = seq(0, 1, 0.25))\n",
    "kable(x = data.frame(Capital_Gain = gain_quartile, Capital_Loss = loss_quartile), caption = \"Nonzero Capital Quartiles\")"
   ]
  },
  {
   "cell_type": "markdown",
   "metadata": {},
   "source": [
    "Now we know both \"capital_gain\" and \"capital_loss\" are highly correlated, so we reference the IQR values above, and then transform them into new factor variables \"cap_gain\" & \"cap_loss\""
   ]
  },
  {
   "cell_type": "code",
   "execution_count": 24,
   "metadata": {},
   "outputs": [],
   "source": [
    "income_dat <- mutate(incomeData,                      \n",
    "                     cap_gain = ifelse(incomeData$capital_gain < 3600, \" Low\",\n",
    "                                       ifelse(incomeData$capital_gain >= 3600 & \n",
    "                                              incomeData$capital_gain <= 15000, \" Medium\", \" High\")))\n",
    "income_dat$cap_gain <- factor(income_dat$cap_gain,ordered = TRUE,levels = c(\" Low\", \" Medium\", \" High\"))"
   ]
  },
  {
   "cell_type": "code",
   "execution_count": 25,
   "metadata": {},
   "outputs": [],
   "source": [
    "income_dat <- mutate(income_dat, \n",
    "                     cap_loss = ifelse(income_dat$capital_loss < 1500, \" Low\",\n",
    "                                       ifelse(income_dat$capital_loss >= 1500 & \n",
    "                                              income_dat$capital_loss <= 2000, \" Medium\", \" High\")))\n",
    "income_dat$cap_loss <- factor(income_dat$cap_loss,ordered = TRUE,levels = c(\" Low\", \" Medium\", \" High\"))"
   ]
  },
  {
   "cell_type": "markdown",
   "metadata": {},
   "source": [
    "## Exploratory & Analysis Using the Data"
   ]
  },
  {
   "cell_type": "markdown",
   "metadata": {},
   "source": [
    " If we take a look of correlation coefficient, we can find some dependent variables are highly correlated to the independent variable \"income\". So we will explore and analyze those variables"
   ]
  },
  {
   "cell_type": "code",
   "execution_count": 26,
   "metadata": {},
   "outputs": [
    {
     "data": {
      "text/html": [
       "0.22948012988851"
      ],
      "text/latex": [
       "0.22948012988851"
      ],
      "text/markdown": [
       "0.22948012988851"
      ],
      "text/plain": [
       "[1] 0.2294801"
      ]
     },
     "metadata": {},
     "output_type": "display_data"
    },
    {
     "data": {
      "text/html": [
       "0.241998136266118"
      ],
      "text/latex": [
       "0.241998136266118"
      ],
      "text/markdown": [
       "0.241998136266118"
      ],
      "text/plain": [
       "[1] 0.2419981"
      ]
     },
     "metadata": {},
     "output_type": "display_data"
    },
    {
     "data": {
      "text/html": [
       "-0.00895742335917162"
      ],
      "text/latex": [
       "-0.00895742335917162"
      ],
      "text/markdown": [
       "-0.00895742335917162"
      ],
      "text/plain": [
       "[1] -0.008957423"
      ]
     },
     "metadata": {},
     "output_type": "display_data"
    }
   ],
   "source": [
    "# For example:\n",
    "cor(income_dat$hours_per_week, income_dat$incomeN2, method = \"pearson\")\n",
    "cor(income_dat$age, income_dat$incomeN2, method = \"pearson\")\n",
    "cor(income_dat$fnlwgt, income_dat$incomeN2, method = \"pearson\")"
   ]
  },
  {
   "cell_type": "markdown",
   "metadata": {},
   "source": [
    "We then box plot Nonzero Capital Gain and Nonzero Capital Loss through grouping by the income levels and find their mean values and median values (the \"orange\" dot denotes mean value and the black line inside the bos denotes median value). The visualizations make sense because people making more money lead to their bigger investment (gain/loss)"
   ]
  },
  {
   "cell_type": "code",
   "execution_count": 27,
   "metadata": {},
   "outputs": [
    {
     "data": {},
     "metadata": {},
     "output_type": "display_data"
    },
    {
     "data": {
      "image/png": "[encoded data removed]",
      "text/plain": [
       "plot without title"
      ]
     },
     "metadata": {},
     "output_type": "display_data"
    }
   ],
   "source": [
    "ggplot(mapping = aes(x = income, y = capital_gain),\n",
    "       data = subset(income_dat, income_dat$capital_gain > 0)) + \n",
    "  geom_boxplot() +\n",
    "  stat_summary(fun.y = mean,geom = 'point',shape = 19,color = \"orange\",cex = 3.5) +\n",
    "  coord_cartesian(ylim = c(0, 28500)) +\n",
    "  scale_y_continuous(breaks = seq(0, 28500, 1250)) +\n",
    "  labs(x = \"Income Levels\", y = \"Capital Gain\") +\n",
    "  ggtitle(\"Nonzero Capital Gain by Income\") "
   ]
  },
  {
   "cell_type": "markdown",
   "metadata": {},
   "source": [
    "We also analyze the new factor variables \"cap_gain\" and \"cap_loss\" as Capital Gain/Loss are highly correlated to our independent variable \"income\". We now see that zero percentage of the people who earn less than 50K per year have a high capital gain"
   ]
  },
  {
   "cell_type": "code",
   "execution_count": 28,
   "metadata": {},
   "outputs": [
    {
     "data": {
      "image/png": "[encoded data removed]",
      "text/plain": [
       "plot without title"
      ]
     },
     "metadata": {},
     "output_type": "display_data"
    }
   ],
   "source": [
    "# Bar plot\n",
    "\n",
    "gain_lg <- lapply(X = levels(income_dat$income), FUN = function(v){  \n",
    "  df <- subset(income_dat, income_dat$income == v)     \n",
    "  df <- within(df, cap_gain <- factor(cap_gain, levels = names(sort(table(cap_gain), \n",
    "                                                          decreasing = FALSE))))\n",
    "    \n",
    "  ggplot(data = df, aes(x = cap_gain, fill = cap_gain)) + \n",
    "    geom_bar(aes(y = (..count..)/sum(..count..))) +\n",
    "    coord_flip() + \n",
    "    theme(legend.position = \"top\") +\n",
    "    geom_text(aes(label = scales::percent((..count..)/sum(..count..)),\n",
    "                y = (..count..)/sum(..count..) ), stat = \"count\", vjust = -.1) +\n",
    "    labs(x = \"Capital Gain\", y = \"\", fill = \"Capital Gain\") +\n",
    "    ggtitle(paste(\"Income\", v, sep = \"\")) +  \n",
    "    scale_y_continuous(labels = percent) })\n",
    "\n",
    "grid.arrange(grobs = gain_lg, ncol = 2)"
   ]
  },
  {
   "cell_type": "code",
   "execution_count": 29,
   "metadata": {},
   "outputs": [
    {
     "data": {
      "image/png": "[encoded data removed]",
      "text/plain": [
       "plot without title"
      ]
     },
     "metadata": {},
     "output_type": "display_data"
    }
   ],
   "source": [
    "# Bar plot of cap_loss (by income)\n",
    "\n",
    "loss_lg <- lapply(X = levels(income_dat$income), FUN = function(v){  \n",
    "  df <- subset(income_dat, income_dat$income == v)     \n",
    "  df <- within(df, cap_loss <- factor(cap_loss, levels = names(sort(table(cap_loss), \n",
    "                                                          decreasing = FALSE))))\n",
    "    \n",
    "  ggplot(data = df, aes(x = cap_loss, fill = cap_loss)) + \n",
    "    geom_bar(aes(y = (..count..)/sum(..count..))) +\n",
    "    coord_flip() + \n",
    "    theme(legend.position = \"top\") +\n",
    "    geom_text(aes(label = scales::percent((..count..)/sum(..count..)),\n",
    "                y = (..count..)/sum(..count..) ), stat = \"count\", vjust = -.1) +\n",
    "    labs(x = \"Capital Loss\", y = \"\", fill = \"Capital Loss\") +\n",
    "    ggtitle(paste(\"Income\", v, sep = \"\")) +  \n",
    "    scale_y_continuous(labels = percent) })\n",
    "\n",
    "grid.arrange(grobs = loss_lg, ncol = 2)"
   ]
  },
  {
   "cell_type": "markdown",
   "metadata": {},
   "source": [
    "We now take a look on variable \"age\" and find its mean value and median value"
   ]
  },
  {
   "cell_type": "code",
   "execution_count": 30,
   "metadata": {},
   "outputs": [
    {
     "data": {
      "text/plain": [
       "   Min. 1st Qu.  Median    Mean 3rd Qu.    Max. \n",
       "  17.00   28.00   37.00   38.44   47.00   90.00 "
      ]
     },
     "metadata": {},
     "output_type": "display_data"
    }
   ],
   "source": [
    "summary(income_dat$age)"
   ]
  },
  {
   "cell_type": "markdown",
   "metadata": {},
   "source": [
    "We can see the bulk of individuals are from 20 to 50"
   ]
  },
  {
   "cell_type": "code",
   "execution_count": 31,
   "metadata": {},
   "outputs": [
    {
     "data": {},
     "metadata": {},
     "output_type": "display_data"
    },
    {
     "data": {
      "image/png": "[encoded data removed]",
      "text/plain": [
       "plot without title"
      ]
     },
     "metadata": {},
     "output_type": "display_data"
    }
   ],
   "source": [
    "# We can see the bulk of individuals are from 20 to 50\n",
    "qplot(x = income_dat$age, data = income_dat, binwidth = 5, \n",
    "      color = I('lightgreen'), fill = I('#2587f2'), xlab = \"Age\", ylab = \"Count\",\n",
    "      main = \"Age in Histogram\") +\n",
    "  scale_x_continuous(breaks = seq(0, 100, 5)) +   \n",
    "  scale_y_continuous(breaks = seq(0, 5000, 450))"
   ]
  },
  {
   "cell_type": "markdown",
   "metadata": {},
   "source": [
    "Grouped by income, we now can see the majority of people earning more than 50K per year are between approximate 35 and 55"
   ]
  },
  {
   "cell_type": "code",
   "execution_count": 32,
   "metadata": {},
   "outputs": [
    {
     "name": "stderr",
     "output_type": "stream",
     "text": [
      "Warning message:\n",
      "\"`position` is deprecated\""
     ]
    },
    {
     "data": {},
     "metadata": {},
     "output_type": "display_data"
    },
    {
     "data": {
      "image/png": "[encoded data removed]",
      "text/plain": [
       "plot without title"
      ]
     },
     "metadata": {},
     "output_type": "display_data"
    }
   ],
   "source": [
    "# empirical density chart\n",
    "with(income_dat, qplot(age, fill=income, geom=\"density\", position=\"fill\")) "
   ]
  },
  {
   "cell_type": "markdown",
   "metadata": {},
   "source": [
    "People of greater age have higher income"
   ]
  },
  {
   "cell_type": "code",
   "execution_count": 33,
   "metadata": {},
   "outputs": [
    {
     "data": {},
     "metadata": {},
     "output_type": "display_data"
    },
    {
     "data": {
      "image/png": "[encoded data removed]",
      "text/plain": [
       "plot without title"
      ]
     },
     "metadata": {},
     "output_type": "display_data"
    }
   ],
   "source": [
    "ggplot(data = income_dat, mapping = aes(x = age)) + \n",
    "  geom_histogram(binwidth = 5, color = \"lightgreen\", fill = \"blue\", alpha = 0.8) +\n",
    "  coord_flip() + \n",
    "  theme(legend.position = \"top\") +\n",
    "  scale_x_continuous(breaks = seq(0, 100, 5)) + \n",
    "  facet_wrap(~income) +\n",
    "  ggtitle(\"Income\") "
   ]
  },
  {
   "cell_type": "code",
   "execution_count": 34,
   "metadata": {},
   "outputs": [
    {
     "data": {
      "text/plain": [
       "   Min. 1st Qu.  Median    Mean 3rd Qu.    Max. \n",
       "  17.00   26.00   34.00   36.61   45.00   90.00 "
      ]
     },
     "metadata": {},
     "output_type": "display_data"
    },
    {
     "data": {
      "text/plain": [
       "   Min. 1st Qu.  Median    Mean 3rd Qu.    Max. \n",
       "  19.00   36.00   43.00   43.96   51.00   90.00 "
      ]
     },
     "metadata": {},
     "output_type": "display_data"
    }
   ],
   "source": [
    "summary(subset(income_dat$age, income_dat$income == \"<=50K\"))\n",
    "summary(subset(income_dat$age, income_dat$income == \">50K\"))"
   ]
  },
  {
   "cell_type": "markdown",
   "metadata": {},
   "source": [
    "From the plot below, we can see the probability of having an income greater than 50K is about 60% (the biggest) for individuals in their 50s"
   ]
  },
  {
   "cell_type": "code",
   "execution_count": 35,
   "metadata": {},
   "outputs": [
    {
     "name": "stderr",
     "output_type": "stream",
     "text": [
      "Warning message:\n",
      "\"In density.default(x, bw = bw, n = n, ...) :\n",
      " extra argument 'colours' will be disregarded\"Warning message:\n",
      "\"In density.default(x[y %in% levels(y)[seq_len(i)]], bw = dx$bw, \n",
      "    n = n, from = min(dx$x), to = max(dx$x), ...) :\n",
      " extra argument 'colours' will be disregarded\""
     ]
    },
    {
     "data": {
      "image/png": "[encoded data removed]",
      "text/plain": [
       "Plot with title \"Income vs Age in Density\""
      ]
     },
     "metadata": {},
     "output_type": "display_data"
    }
   ],
   "source": [
    "cdplot(income_dat$income ~ income_dat$age, bw = 1.5,\n",
    "        xlab = \"Age\",\n",
    "        ylab = \"Income Levels\",\n",
    "        colours = \"darkblue\",\n",
    "        main = \"Income vs Age in Density\")"
   ]
  },
  {
   "cell_type": "markdown",
   "metadata": {},
   "source": [
    "Per foregoing discussing, we know \"hours_per_week\" is highly correlated to our target independent variable \"income\". Let's check its mean value and visualize it grouping by income level"
   ]
  },
  {
   "cell_type": "code",
   "execution_count": 36,
   "metadata": {},
   "outputs": [
    {
     "data": {
      "text/plain": [
       "   Min. 1st Qu.  Median    Mean 3rd Qu.    Max. \n",
       "   1.00   40.00   40.00   40.93   45.00   99.00 "
      ]
     },
     "metadata": {},
     "output_type": "display_data"
    }
   ],
   "source": [
    "summary(income_dat$hours_per_week)"
   ]
  },
  {
   "cell_type": "markdown",
   "metadata": {},
   "source": [
    "Now let's separate the income levels into groups and check their mean values"
   ]
  },
  {
   "cell_type": "code",
   "execution_count": 37,
   "metadata": {},
   "outputs": [
    {
     "data": {
      "text/plain": [
       "   Min. 1st Qu.  Median    Mean 3rd Qu.    Max. \n",
       "   1.00   38.00   40.00   39.35   40.00   99.00 "
      ]
     },
     "metadata": {},
     "output_type": "display_data"
    },
    {
     "data": {
      "text/plain": [
       "   Min. 1st Qu.  Median    Mean 3rd Qu.    Max. \n",
       "   1.00   40.00   40.00   45.71   50.00   99.00 "
      ]
     },
     "metadata": {},
     "output_type": "display_data"
    }
   ],
   "source": [
    "summary(subset(income_dat$hours_per_week, income_dat$income == \"<=50K\"))\n",
    "summary(subset(income_dat$hours_per_week, income_dat$income == \">50K\"))"
   ]
  },
  {
   "cell_type": "markdown",
   "metadata": {},
   "source": [
    "Let's now take a look into the derived variable \"dif_hours\" and see if there is a match with \"hours_per_week\""
   ]
  },
  {
   "cell_type": "code",
   "execution_count": 38,
   "metadata": {},
   "outputs": [
    {
     "data": {
      "image/png": "[encoded data removed]",
      "text/plain": [
       "plot without title"
      ]
     },
     "metadata": {},
     "output_type": "display_data"
    }
   ],
   "source": [
    "hpw_lg <- lapply(levels(income_dat$income), function(v){    \n",
    "    df <- subset(income_dat, income_dat$income == v)     \n",
    "    df <- within(df, dif_hours <- factor(dif_hours, levels = names(sort(table(dif_hours), \n",
    "                                                           decreasing = FALSE))))\n",
    "  \n",
    "    ggplot(data = df, aes(x = dif_hours, fill = dif_hours)) + \n",
    "      geom_bar(aes(y = (..count..)/sum(..count..))) +\n",
    "      coord_flip() + \n",
    "      theme(legend.position = \"top\") +\n",
    "\n",
    "      geom_text(aes(label = scales::percent((..count..)/sum(..count..)),\n",
    "                    y = (..count..)/sum(..count..) ), stat = \"count\", vjust = -.1, size = 3) +\n",
    "      labs(x = \"Hours per week\", y = \"\", fill = \"Hours per week\") +\n",
    "    theme(legend.position = \"\", axis.text.y = element_text(angle = 45, hjust = 1)) +\n",
    "      ggtitle(paste(\"Income Levels \", v, sep=\"\")) + \n",
    "      scale_y_continuous(labels = percent) })\n",
    "\n",
    "grid.arrange(grobs = hpw_lg, ncol = 2)"
   ]
  },
  {
   "cell_type": "markdown",
   "metadata": {},
   "source": [
    "Education factor is highly correlated to \"income\". Let's repeat the foregoing pre-process on this factor"
   ]
  },
  {
   "cell_type": "code",
   "execution_count": 39,
   "metadata": {},
   "outputs": [
    {
     "data": {
      "text/html": [
       "0.335286196752638"
      ],
      "text/latex": [
       "0.335286196752638"
      ],
      "text/markdown": [
       "0.335286196752638"
      ],
      "text/plain": [
       "[1] 0.3352862"
      ]
     },
     "metadata": {},
     "output_type": "display_data"
    }
   ],
   "source": [
    "cor(income_dat$education_num, income_dat$incomeN2, method = \"pearson\")"
   ]
  },
  {
   "cell_type": "code",
   "execution_count": 40,
   "metadata": {},
   "outputs": [
    {
     "data": {
      "text/html": [
       "<dl class=dl-horizontal>\n",
       "\t<dt>10th</dt>\n",
       "\t\t<dd>820</dd>\n",
       "\t<dt>11th</dt>\n",
       "\t\t<dd>1048</dd>\n",
       "\t<dt>12th</dt>\n",
       "\t\t<dd>377</dd>\n",
       "\t<dt>1st-4th</dt>\n",
       "\t\t<dd>151</dd>\n",
       "\t<dt>5th-6th</dt>\n",
       "\t\t<dd>288</dd>\n",
       "\t<dt>7th-8th</dt>\n",
       "\t\t<dd>557</dd>\n",
       "\t<dt>9th</dt>\n",
       "\t\t<dd>455</dd>\n",
       "\t<dt>Assoc-acdm</dt>\n",
       "\t\t<dd>1008</dd>\n",
       "\t<dt>Assoc-voc</dt>\n",
       "\t\t<dd>1307</dd>\n",
       "\t<dt>Bachelors</dt>\n",
       "\t\t<dd>5044</dd>\n",
       "\t<dt>Doctorate</dt>\n",
       "\t\t<dd>375</dd>\n",
       "\t<dt>HS-grad</dt>\n",
       "\t\t<dd>9840</dd>\n",
       "\t<dt>Masters</dt>\n",
       "\t\t<dd>1627</dd>\n",
       "\t<dt>Preschool</dt>\n",
       "\t\t<dd>45</dd>\n",
       "\t<dt>Prof-school</dt>\n",
       "\t\t<dd>542</dd>\n",
       "\t<dt>Some-college</dt>\n",
       "\t\t<dd>6678</dd>\n",
       "</dl>\n"
      ],
      "text/latex": [
       "\\begin{description*}\n",
       "\\item[10th] 820\n",
       "\\item[11th] 1048\n",
       "\\item[12th] 377\n",
       "\\item[1st-4th] 151\n",
       "\\item[5th-6th] 288\n",
       "\\item[7th-8th] 557\n",
       "\\item[9th] 455\n",
       "\\item[Assoc-acdm] 1008\n",
       "\\item[Assoc-voc] 1307\n",
       "\\item[Bachelors] 5044\n",
       "\\item[Doctorate] 375\n",
       "\\item[HS-grad] 9840\n",
       "\\item[Masters] 1627\n",
       "\\item[Preschool] 45\n",
       "\\item[Prof-school] 542\n",
       "\\item[Some-college] 6678\n",
       "\\end{description*}\n"
      ],
      "text/markdown": [
       "10th\n",
       ":   82011th\n",
       ":   104812th\n",
       ":   3771st-4th\n",
       ":   1515th-6th\n",
       ":   2887th-8th\n",
       ":   5579th\n",
       ":   455Assoc-acdm\n",
       ":   1008Assoc-voc\n",
       ":   1307Bachelors\n",
       ":   5044Doctorate\n",
       ":   375HS-grad\n",
       ":   9840Masters\n",
       ":   1627Preschool\n",
       ":   45Prof-school\n",
       ":   542Some-college\n",
       ":   6678\n",
       "\n"
      ],
      "text/plain": [
       "        10th         11th         12th      1st-4th      5th-6th      7th-8th \n",
       "         820         1048          377          151          288          557 \n",
       "         9th   Assoc-acdm    Assoc-voc    Bachelors    Doctorate      HS-grad \n",
       "         455         1008         1307         5044          375         9840 \n",
       "     Masters    Preschool  Prof-school Some-college \n",
       "        1627           45          542         6678 "
      ]
     },
     "metadata": {},
     "output_type": "display_data"
    }
   ],
   "source": [
    "summary(income_dat$education)"
   ]
  },
  {
   "cell_type": "code",
   "execution_count": 41,
   "metadata": {},
   "outputs": [
    {
     "data": {},
     "metadata": {},
     "output_type": "display_data"
    },
    {
     "data": {
      "image/png": "[encoded data removed]",
      "text/plain": [
       "plot without title"
      ]
     },
     "metadata": {},
     "output_type": "display_data"
    }
   ],
   "source": [
    "income_dat$education <- factor(income_dat$education, levels = names(sort(table(income_dat$education),   \n",
    "                                                                               decreasing = FALSE)))\n",
    "\n",
    "ggplot(income_dat, aes(x = income_dat$education, fill = income_dat$education)) + \n",
    "  geom_bar(aes(y = (..count..)/sum(..count..))) +\n",
    "  coord_flip() + \n",
    "  theme(legend.position = \"top\") +\n",
    "  geom_text(aes(label = scales::percent((..count..)/sum(..count..)), y = (..count..)/sum(..count..) ), \n",
    "            stat = \"count\", vjust = -.1, size = 3.5) +\n",
    "  labs(x = \"Education Levels\", y = \"\", fill = \"Education Levels\") +\n",
    "  theme(legend.position = \"\", axis.text.y = element_text(angle = 45, hjust = 1)) +\n",
    "  scale_y_continuous(labels = percent)"
   ]
  },
  {
   "cell_type": "markdown",
   "metadata": {},
   "source": [
    "Check if there is exception for which anyone earns greater than 50K but his/her educaiton level is only \"Preschool\"?"
   ]
  },
  {
   "cell_type": "code",
   "execution_count": 42,
   "metadata": {},
   "outputs": [
    {
     "data": {
      "text/html": [
       "0"
      ],
      "text/latex": [
       "0"
      ],
      "text/markdown": [
       "0"
      ],
      "text/plain": [
       "[1] 0"
      ]
     },
     "metadata": {},
     "output_type": "display_data"
    }
   ],
   "source": [
    "nrow(subset(income_dat, income_dat$education == \"Preschool\" &\n",
    "                        income_dat$income == \">50K\" ))"
   ]
  },
  {
   "cell_type": "markdown",
   "metadata": {},
   "source": [
    "So, now we drop this level (\"Preschool\")"
   ]
  },
  {
   "cell_type": "code",
   "execution_count": 43,
   "metadata": {},
   "outputs": [],
   "source": [
    "new_edu <- levels(income_dat$education)\n",
    "new_edu <- new_edu[!is.element(new_edu, \"Preschool\")]"
   ]
  },
  {
   "cell_type": "markdown",
   "metadata": {},
   "source": [
    "We should be able to provide more supportive evidences using the following plot - "
   ]
  },
  {
   "cell_type": "code",
   "execution_count": 44,
   "metadata": {},
   "outputs": [
    {
     "data": {
      "image/png": "[encoded data removed]",
      "text/plain": [
       "plot without title"
      ]
     },
     "metadata": {},
     "output_type": "display_data"
    }
   ],
   "source": [
    "edu_mod_lg <- lapply(new_edu, function(v){\n",
    "  ggplot(data = subset(income_dat, income_dat$education == v), aes(x = subset(income_dat, income_dat$education == v)$income, \n",
    "             fill = subset(income_dat, income_dat$education == v)$income)) +\n",
    "    geom_bar(aes(y = (..count..)/sum(..count..))) +\n",
    "    coord_flip() + \n",
    "    theme(legend.position = \"top\") +\n",
    "    geom_text(aes(label = scales::percent((..count..)/sum(..count..)), y = (..count..)/sum(..count..)), \n",
    "             stat = \"count\", vjust =  c(2, 0.5), size = 3) +\n",
    "    labs(x = \"Income\", y = \"\", fill = \"Income\") +\n",
    "    ggtitle(v) +  \n",
    "    theme(legend.position = \"\", plot.title = element_text(size = 11, face = \"bold\")) +    \n",
    "    scale_y_continuous(labels = percent) })\n",
    "\n",
    "grid.arrange(grobs = edu_mod_lg[3:14], ncol = 2)"
   ]
  },
  {
   "cell_type": "markdown",
   "metadata": {},
   "source": [
    "Now let's work on variable \"sex\" and repeat the foregoing pre-process to explore the insight information"
   ]
  },
  {
   "cell_type": "markdown",
   "metadata": {},
   "source": [
    "The following bar plots using percentages are easier to interpret rather than row counts"
   ]
  },
  {
   "cell_type": "code",
   "execution_count": 46,
   "metadata": {},
   "outputs": [
    {
     "data": {
      "image/png": "[encoded data removed]",
      "text/plain": [
       "plot without title"
      ]
     },
     "metadata": {},
     "output_type": "display_data"
    }
   ],
   "source": [
    "gender_income <- lapply(levels(income_dat$sex), function(v){\n",
    "   ggplot(data = subset(income_dat, income_dat$sex == v), aes(x = subset(income_dat, income_dat$sex == v)$income, \n",
    "             fill = subset(income_dat, income_dat$sex == v)$income))+\n",
    "  geom_bar(aes(y = (..count..)/sum(..count..))) +\n",
    "  coord_flip() + \n",
    "  theme(legend.position = \"top\") +\n",
    "  geom_text(aes(label = scales::percent((..count..)/sum(..count..)), y = (..count..)/sum(..count..)), \n",
    "            stat = \"count\", vjust = -0.1, size = 3) +\n",
    "  labs(x = \"Income Levels\", y = \"\", fill = \"Income levels\") +\n",
    "  ggtitle(paste(v)) +  \n",
    "  theme(legend.position = \"\", plot.title = element_text(size = 11, face = \"bold\"),\n",
    "        axis.text.y = element_text(hjust = 1)) +     \n",
    "  scale_y_continuous(labels = percent) })\n",
    "\n",
    "grid.arrange(grobs = gender_income, ncol = 2)"
   ]
  },
  {
   "cell_type": "markdown",
   "metadata": {},
   "source": [
    "The following numbers match what we see from the bar charts above"
   ]
  },
  {
   "cell_type": "code",
   "execution_count": 47,
   "metadata": {},
   "outputs": [
    {
     "data": {
      "text/plain": [
       "        \n",
       "             <=50K      >50K\n",
       "  Female 0.8863218 0.1136782\n",
       "  Male   0.6861629 0.3138371"
      ]
     },
     "metadata": {},
     "output_type": "display_data"
    }
   ],
   "source": [
    "# Proportion of men and women with income <50K and >=50K:\n",
    "prop.table(table(income_dat$sex, income_dat$income), margin = 1)"
   ]
  },
  {
   "cell_type": "markdown",
   "metadata": {},
   "source": [
    "The following bar charts show that the percentages of women and men belonging to each education level are very similar"
   ]
  },
  {
   "cell_type": "code",
   "execution_count": 48,
   "metadata": {},
   "outputs": [
    {
     "data": {
      "image/png": "[encoded data removed]",
      "text/plain": [
       "plot without title"
      ]
     },
     "metadata": {},
     "output_type": "display_data"
    }
   ],
   "source": [
    "lg_gender_edu <- lapply(levels(income_dat$sex), function(v){    \n",
    "    df <- subset(income_dat, income_dat$sex == v)      \n",
    "    df <- within(df, education <- factor(education, levels = names(sort(table(education), \n",
    "                                                                   decreasing = FALSE))))\n",
    "       \n",
    "   ggplot(data = df, aes(x = df$education, fill = subset(income_dat, income_dat$sex == v)$education))+\n",
    "     geom_bar(aes(y = (..count..)/sum(..count..))) +\n",
    "     geom_text(aes(label = scales::percent((..count..)/sum(..count..)), y = (..count..)/sum(..count..)), \n",
    "               stat = \"count\", vjust = -0.2, size = 3) +\n",
    "     labs(x = \"Edu Levels\", y = \"\", fill = \"Edu Levels\") +\n",
    "     ggtitle(paste(v)) +  \n",
    "     theme(legend.position = \"\", plot.title = element_text(size = 11, face = \"bold\"),\n",
    "           axis.text.x = element_text(angle = 45, hjust = 1)) +     \n",
    "     scale_y_continuous(labels = percent) })\n",
    "\n",
    "grid.arrange(grobs = lg_gender_edu, ncol = 2)"
   ]
  },
  {
   "cell_type": "markdown",
   "metadata": {},
   "source": [
    "## Feature Engineering"
   ]
  },
  {
   "cell_type": "markdown",
   "metadata": {},
   "source": [
    "Since the columns of which the descriptive values don't effect our prediction, we can drop them"
   ]
  },
  {
   "cell_type": "code",
   "execution_count": 49,
   "metadata": {},
   "outputs": [
    {
     "data": {
      "text/html": [
       "<table>\n",
       "<thead><tr><th scope=col>age</th><th scope=col>fnlwgt</th><th scope=col>education_num</th><th scope=col>marital_status</th><th scope=col>sex</th><th scope=col>capital_gain</th><th scope=col>capital_loss</th><th scope=col>hours_per_week</th><th scope=col>income</th><th scope=col>dif_hours</th><th scope=col>native_region</th><th scope=col>cap_gain</th><th scope=col>cap_loss</th></tr></thead>\n",
       "<tbody>\n",
       "\t<tr><td>82                                                         </td><td>132870                                                     </td><td> 9                                                         </td><td><span style=white-space:pre-wrap>Widowed  </span>          </td><td>Female                                                     </td><td>0                                                          </td><td>4356                                                       </td><td>18                                                         </td><td>&lt;=50K                                                   </td><td><span style=white-space:pre-wrap>less_than_40h      </span></td><td>United-States                                              </td><td> Low                                                       </td><td> High                                                      </td></tr>\n",
       "\t<tr><td>54                 </td><td>140359             </td><td> 4                 </td><td>Divorced           </td><td>Female             </td><td>0                  </td><td>3900               </td><td>40                 </td><td>&lt;=50K           </td><td>between_40h_and_45h</td><td>United-States      </td><td> Low               </td><td> High              </td></tr>\n",
       "\t<tr><td>41                 </td><td>264663             </td><td>10                 </td><td>Separated          </td><td>Female             </td><td>0                  </td><td>3900               </td><td>40                 </td><td>&lt;=50K           </td><td>between_40h_and_45h</td><td>United-States      </td><td> Low               </td><td> High              </td></tr>\n",
       "</tbody>\n",
       "</table>\n"
      ],
      "text/latex": [
       "\\begin{tabular}{r|lllllllllllll}\n",
       " age & fnlwgt & education\\_num & marital\\_status & sex & capital\\_gain & capital\\_loss & hours\\_per\\_week & income & dif\\_hours & native\\_region & cap\\_gain & cap\\_loss\\\\\n",
       "\\hline\n",
       "\t 82                      & 132870                  &  9                      & Widowed                 & Female                  & 0                       & 4356                    & 18                      & <=50K                   & less\\_than\\_40h       & United-States           &  Low                    &  High                  \\\\\n",
       "\t 54                        & 140359                    &  4                        & Divorced                  & Female                    & 0                         & 3900                      & 40                        & <=50K                     & between\\_40h\\_and\\_45h & United-States             &  Low                      &  High                    \\\\\n",
       "\t 41                        & 264663                    & 10                        & Separated                 & Female                    & 0                         & 3900                      & 40                        & <=50K                     & between\\_40h\\_and\\_45h & United-States             &  Low                      &  High                    \\\\\n",
       "\\end{tabular}\n"
      ],
      "text/markdown": [
       "\n",
       "age | fnlwgt | education_num | marital_status | sex | capital_gain | capital_loss | hours_per_week | income | dif_hours | native_region | cap_gain | cap_loss | \n",
       "|---|---|---|\n",
       "| 82                  | 132870              |  9                  | Widowed             | Female              | 0                   | 4356                | 18                  | <=50K               | less_than_40h       | United-States       |  Low                |  High               | \n",
       "| 54                  | 140359              |  4                  | Divorced            | Female              | 0                   | 3900                | 40                  | <=50K               | between_40h_and_45h | United-States       |  Low                |  High               | \n",
       "| 41                  | 264663              | 10                  | Separated           | Female              | 0                   | 3900                | 40                  | <=50K               | between_40h_and_45h | United-States       |  Low                |  High               | \n",
       "\n",
       "\n"
      ],
      "text/plain": [
       "  age fnlwgt education_num marital_status sex    capital_gain capital_loss\n",
       "1 82  132870  9            Widowed        Female 0            4356        \n",
       "2 54  140359  4            Divorced       Female 0            3900        \n",
       "3 41  264663 10            Separated      Female 0            3900        \n",
       "  hours_per_week income dif_hours           native_region cap_gain cap_loss\n",
       "1 18             <=50K  less_than_40h       United-States  Low      High   \n",
       "2 40             <=50K  between_40h_and_45h United-States  Low      High   \n",
       "3 40             <=50K  between_40h_and_45h United-States  Low      High   "
      ]
     },
     "metadata": {},
     "output_type": "display_data"
    }
   ],
   "source": [
    "drops <- c(\"workclass\",\"education\",\"occupation\",\"relationship\",\"race\",\"native_country\",\"incomeN1\",\"incomeN2\")\n",
    "income_dat <- income_dat[, !(names(income_dat) %in% drops)]\n",
    "income_dat[0:3,]"
   ]
  },
  {
   "cell_type": "markdown",
   "metadata": {},
   "source": [
    "Convert the categorical values (income)¶"
   ]
  },
  {
   "cell_type": "code",
   "execution_count": 50,
   "metadata": {},
   "outputs": [],
   "source": [
    "#ifelse(income_dat$income == \"somevalue\",0,1)\n",
    "levels(income_dat$income) <- c(0,1)\n",
    "income_dat$income2 <- as.numeric(levels(income_dat$income))[income_dat$income]"
   ]
  },
  {
   "cell_type": "code",
   "execution_count": 51,
   "metadata": {},
   "outputs": [],
   "source": [
    "income_dat$marital_status <- as.factor(income_dat$marital_status)\n",
    "income_dat$marital_status2 <- as.numeric(income_dat$marital_status)\n",
    "\n",
    "income_dat$sex <- as.factor(income_dat$sex)\n",
    "income_dat$sex2 <- as.numeric(income_dat$sex)\n",
    "\n",
    "income_dat$dif_hours <- as.factor(income_dat$dif_hours)\n",
    "income_dat$dif_hours2 <- as.numeric(income_dat$dif_hours)\n",
    "\n",
    "income_dat$native_region <- as.factor(income_dat$native_region)\n",
    "income_dat$native_region2 <- as.numeric(income_dat$native_region)\n",
    "\n",
    "income_dat$cap_gain <- as.factor(income_dat$cap_gain)\n",
    "income_dat$cap_gain2 <- as.numeric(income_dat$cap_gain)\n",
    "\n",
    "income_dat$cap_loss <- as.factor(income_dat$cap_loss)\n",
    "income_dat$cap_loss2 <- as.numeric(income_dat$cap_loss)"
   ]
  },
  {
   "cell_type": "code",
   "execution_count": 52,
   "metadata": {},
   "outputs": [
    {
     "data": {
      "text/html": [
       "<table>\n",
       "<thead><tr><th scope=col>age</th><th scope=col>fnlwgt</th><th scope=col>education_num</th><th scope=col>marital_status</th><th scope=col>sex</th><th scope=col>capital_gain</th><th scope=col>capital_loss</th><th scope=col>hours_per_week</th><th scope=col>dif_hours</th><th scope=col>native_region</th><th scope=col>cap_gain</th><th scope=col>cap_loss</th><th scope=col>income</th></tr></thead>\n",
       "<tbody>\n",
       "\t<tr><td>82    </td><td>132870</td><td> 9    </td><td>7     </td><td>1     </td><td>0     </td><td>4356  </td><td>18    </td><td>1     </td><td>5     </td><td>1     </td><td>3     </td><td>0     </td></tr>\n",
       "\t<tr><td>54    </td><td>140359</td><td> 4    </td><td>1     </td><td>1     </td><td>0     </td><td>3900  </td><td>40    </td><td>2     </td><td>5     </td><td>1     </td><td>3     </td><td>0     </td></tr>\n",
       "\t<tr><td>41    </td><td>264663</td><td>10    </td><td>6     </td><td>1     </td><td>0     </td><td>3900  </td><td>40    </td><td>2     </td><td>5     </td><td>1     </td><td>3     </td><td>0     </td></tr>\n",
       "</tbody>\n",
       "</table>\n"
      ],
      "text/latex": [
       "\\begin{tabular}{r|lllllllllllll}\n",
       " age & fnlwgt & education\\_num & marital\\_status & sex & capital\\_gain & capital\\_loss & hours\\_per\\_week & dif\\_hours & native\\_region & cap\\_gain & cap\\_loss & income\\\\\n",
       "\\hline\n",
       "\t 82     & 132870 &  9     & 7      & 1      & 0      & 4356   & 18     & 1      & 5      & 1      & 3      & 0     \\\\\n",
       "\t 54     & 140359 &  4     & 1      & 1      & 0      & 3900   & 40     & 2      & 5      & 1      & 3      & 0     \\\\\n",
       "\t 41     & 264663 & 10     & 6      & 1      & 0      & 3900   & 40     & 2      & 5      & 1      & 3      & 0     \\\\\n",
       "\\end{tabular}\n"
      ],
      "text/markdown": [
       "\n",
       "age | fnlwgt | education_num | marital_status | sex | capital_gain | capital_loss | hours_per_week | dif_hours | native_region | cap_gain | cap_loss | income | \n",
       "|---|---|---|\n",
       "| 82     | 132870 |  9     | 7      | 1      | 0      | 4356   | 18     | 1      | 5      | 1      | 3      | 0      | \n",
       "| 54     | 140359 |  4     | 1      | 1      | 0      | 3900   | 40     | 2      | 5      | 1      | 3      | 0      | \n",
       "| 41     | 264663 | 10     | 6      | 1      | 0      | 3900   | 40     | 2      | 5      | 1      | 3      | 0      | \n",
       "\n",
       "\n"
      ],
      "text/plain": [
       "  age fnlwgt education_num marital_status sex capital_gain capital_loss\n",
       "1 82  132870  9            7              1   0            4356        \n",
       "2 54  140359  4            1              1   0            3900        \n",
       "3 41  264663 10            6              1   0            3900        \n",
       "  hours_per_week dif_hours native_region cap_gain cap_loss income\n",
       "1 18             1         5             1        3        0     \n",
       "2 40             2         5             1        3        0     \n",
       "3 40             2         5             1        3        0     "
      ]
     },
     "metadata": {},
     "output_type": "display_data"
    }
   ],
   "source": [
    "income_dat <- income_dat %>% select(\"age\",\"fnlwgt\",\"education_num\",\"marital_status2\",\"sex2\",\"capital_gain\",\"capital_loss\",\n",
    "                                   \"hours_per_week\",\"dif_hours2\",\"native_region2\",\"cap_gain2\",\"cap_loss2\",\"income2\")\n",
    "setnames(income_dat, old = c(\"marital_status2\",\"sex2\",\"dif_hours2\",\"native_region2\",\"cap_gain2\",\"cap_loss2\",\"income2\"),\n",
    "        new = c(\"marital_status\",\"sex\",\"dif_hours\",\"native_region\",\"cap_gain\",\"cap_loss\",\"income\"))\n",
    "income_dat[0:3,]"
   ]
  },
  {
   "cell_type": "code",
   "execution_count": 53,
   "metadata": {},
   "outputs": [
    {
     "data": {
      "text/plain": [
       "      age            fnlwgt        education_num   marital_status\n",
       " Min.   :17.00   Min.   :  13769   Min.   : 1.00   Min.   :1.00  \n",
       " 1st Qu.:28.00   1st Qu.: 117627   1st Qu.: 9.00   1st Qu.:3.00  \n",
       " Median :37.00   Median : 178425   Median :10.00   Median :3.00  \n",
       " Mean   :38.44   Mean   : 189794   Mean   :10.12   Mean   :3.58  \n",
       " 3rd Qu.:47.00   3rd Qu.: 237629   3rd Qu.:13.00   3rd Qu.:5.00  \n",
       " Max.   :90.00   Max.   :1484705   Max.   :16.00   Max.   :7.00  \n",
       "      sex         capital_gain    capital_loss     hours_per_week \n",
       " Min.   :1.000   Min.   :    0   Min.   :   0.00   Min.   : 1.00  \n",
       " 1st Qu.:1.000   1st Qu.:    0   1st Qu.:   0.00   1st Qu.:40.00  \n",
       " Median :2.000   Median :    0   Median :   0.00   Median :40.00  \n",
       " Mean   :1.676   Mean   : 1092   Mean   :  88.37   Mean   :40.93  \n",
       " 3rd Qu.:2.000   3rd Qu.:    0   3rd Qu.:   0.00   3rd Qu.:45.00  \n",
       " Max.   :2.000   Max.   :99999   Max.   :4356.00   Max.   :99.00  \n",
       "   dif_hours     native_region      cap_gain        cap_loss    \n",
       " Min.   :1.000   Min.   :1.000   Min.   :1.000   Min.   :1.000  \n",
       " 1st Qu.:2.000   1st Qu.:5.000   1st Qu.:1.000   1st Qu.:1.000  \n",
       " Median :2.000   Median :5.000   Median :1.000   Median :1.000  \n",
       " Mean   :2.046   Mean   :4.733   Mean   :1.082   Mean   :1.053  \n",
       " 3rd Qu.:2.000   3rd Qu.:5.000   3rd Qu.:1.000   3rd Qu.:1.000  \n",
       " Max.   :5.000   Max.   :5.000   Max.   :3.000   Max.   :3.000  \n",
       "     income      \n",
       " Min.   :0.0000  \n",
       " 1st Qu.:0.0000  \n",
       " Median :0.0000  \n",
       " Mean   :0.2489  \n",
       " 3rd Qu.:0.0000  \n",
       " Max.   :1.0000  "
      ]
     },
     "metadata": {},
     "output_type": "display_data"
    }
   ],
   "source": [
    "# Review the new structure\n",
    "summary(income_dat)"
   ]
  },
  {
   "cell_type": "markdown",
   "metadata": {},
   "source": [
    "## Split Train & Test Data"
   ]
  },
  {
   "cell_type": "code",
   "execution_count": 54,
   "metadata": {},
   "outputs": [
    {
     "data": {
      "text/html": [
       "<ol class=list-inline>\n",
       "\t<li>30162</li>\n",
       "\t<li>13</li>\n",
       "</ol>\n"
      ],
      "text/latex": [
       "\\begin{enumerate*}\n",
       "\\item 30162\n",
       "\\item 13\n",
       "\\end{enumerate*}\n"
      ],
      "text/markdown": [
       "1. 30162\n",
       "2. 13\n",
       "\n",
       "\n"
      ],
      "text/plain": [
       "[1] 30162    13"
      ]
     },
     "metadata": {},
     "output_type": "display_data"
    }
   ],
   "source": [
    "dim(income_dat)"
   ]
  },
  {
   "cell_type": "code",
   "execution_count": 55,
   "metadata": {},
   "outputs": [],
   "source": [
    "# Validation set will be 25% of new income data\n",
    "\n",
    "set.seed(1)\n",
    "test_index <- createDataPartition(y = income_dat$income, times = 1, p = 0.25, list = FALSE)\n",
    "edx <- income_dat[-test_index,]\n",
    "validation <- income_dat[test_index,]\n"
   ]
  },
  {
   "cell_type": "code",
   "execution_count": 56,
   "metadata": {},
   "outputs": [
    {
     "name": "stdout",
     "output_type": "stream",
     "text": [
      "[1] 22621\n",
      "[1] 7541\n"
     ]
    }
   ],
   "source": [
    "# print the row numbers of train-set & test-set\n",
    "\n",
    "trainRows <- dim(edx)[1]\n",
    "testRows <- dim(validation)[1]\n",
    "print(trainRows)\n",
    "print(testRows)"
   ]
  },
  {
   "cell_type": "markdown",
   "metadata": {},
   "source": [
    "## Machine Learning Models / Results"
   ]
  },
  {
   "cell_type": "markdown",
   "metadata": {},
   "source": [
    "### Decision Tree"
   ]
  },
  {
   "cell_type": "code",
   "execution_count": 80,
   "metadata": {},
   "outputs": [],
   "source": [
    "library(rpart)"
   ]
  },
  {
   "cell_type": "code",
   "execution_count": 81,
   "metadata": {},
   "outputs": [
    {
     "data": {
      "image/png": "[encoded data removed]",
      "text/plain": [
       "plot without title"
      ]
     },
     "metadata": {},
     "output_type": "display_data"
    }
   ],
   "source": [
    "edx_tree <- rpart(income ~ ., \n",
    "                  \n",
    "                     data = edx)\n",
    "plot(edx_tree)\n",
    "text(edx_tree)"
   ]
  },
  {
   "cell_type": "markdown",
   "metadata": {},
   "source": [
    "We plot the decision tree algorithm by using all variables as following - "
   ]
  },
  {
   "cell_type": "code",
   "execution_count": 82,
   "metadata": {},
   "outputs": [
    {
     "data": {},
     "metadata": {},
     "output_type": "display_data"
    },
    {
     "data": {
      "image/png": "[encoded data removed]",
      "text/plain": [
       "plot without title"
      ]
     },
     "metadata": {},
     "output_type": "display_data"
    }
   ],
   "source": [
    "\n",
    "edx %>% \n",
    "  mutate(income_hat = predict(edx_tree)) %>% \n",
    "  ggplot() +\n",
    "  geom_point(aes(age+fnlwgt+education_num+marital_status+sex+capital_gain+capital_loss+hours_per_week+dif_hours+native_region+cap_gain+cap_loss, income)) +\n",
    "\n",
    "  geom_step(aes(age+fnlwgt+education_num+marital_status+sex+capital_gain+capital_loss+hours_per_week+dif_hours+native_region+cap_gain+cap_loss, income_hat), col=2)  "
   ]
  },
  {
   "cell_type": "markdown",
   "metadata": {},
   "source": [
    "We tune the model via CP value and we find when CP<0.025, we can minimize the RMSE"
   ]
  },
  {
   "cell_type": "code",
   "execution_count": 85,
   "metadata": {},
   "outputs": [
    {
     "name": "stderr",
     "output_type": "stream",
     "text": [
      "Warning message in train.default(x, y, weights = w, ...):\n",
      "\"You are trying to do regression and your outcome only has two possible values Are you trying to do classification? If so, use a 2 level factor as your outcome column.\""
     ]
    },
    {
     "data": {},
     "metadata": {},
     "output_type": "display_data"
    },
    {
     "data": {
      "image/png": "[encoded data removed]",
      "text/plain": [
       "plot without title"
      ]
     },
     "metadata": {},
     "output_type": "display_data"
    }
   ],
   "source": [
    "\n",
    "set.seed(1)\n",
    "fit_rpart <- train(income ~ .,\n",
    "                  method=\"rpart\",\n",
    "                  tuneGrid = data.frame(cp=seq(0.0,0.1,len=16)),\n",
    "                  data = edx)\n",
    "ggplot(fit_rpart)                "
   ]
  },
  {
   "cell_type": "markdown",
   "metadata": {},
   "source": [
    "Now we define a function for computing the RMSE"
   ]
  },
  {
   "cell_type": "code",
   "execution_count": 87,
   "metadata": {},
   "outputs": [],
   "source": [
    "RMSE <- function(true_ratings, predicted_ratings){\n",
    "  sqrt(mean((true_ratings - predicted_ratings)^2))\n",
    "}"
   ]
  },
  {
   "cell_type": "markdown",
   "metadata": {},
   "source": [
    "We now have the RMSE for D-Tree model"
   ]
  },
  {
   "cell_type": "code",
   "execution_count": 89,
   "metadata": {},
   "outputs": [
    {
     "name": "stderr",
     "output_type": "stream",
     "text": [
      "Warning message in true_ratings - predicted_ratings:\n",
      "\"longer object length is not a multiple of shorter object length\""
     ]
    },
    {
     "data": {
      "text/plain": [
       "\n",
       "\n",
       "|method       |      RMSE|\n",
       "|:------------|---------:|\n",
       "|D-Tree Model | 0.5085721|"
      ]
     },
     "metadata": {},
     "output_type": "display_data"
    }
   ],
   "source": [
    "d_tree_rmse <- RMSE(validation$income, predict(fit_rpart))\n",
    "rmse_results <- data_frame(method=\"D-Tree Model\",\n",
    "                           RMSE = d_tree_rmse)\n",
    "rmse_results %>% knitr::kable()"
   ]
  },
  {
   "cell_type": "markdown",
   "metadata": {},
   "source": [
    "### Random Forest"
   ]
  },
  {
   "cell_type": "code",
   "execution_count": null,
   "metadata": {},
   "outputs": [],
   "source": [
    "library(randomForest)\n",
    "library(Rborist)"
   ]
  },
  {
   "cell_type": "code",
   "execution_count": 93,
   "metadata": {},
   "outputs": [
    {
     "name": "stderr",
     "output_type": "stream",
     "text": [
      "Warning message in randomForest.default(m, y, ...):\n",
      "\"The response has five or fewer unique values.  Are you sure you want to do regression?\""
     ]
    },
    {
     "data": {
      "image/png": "[encoded data removed]",
      "text/plain": [
       "Plot with title \"train_rf\""
      ]
     },
     "metadata": {},
     "output_type": "display_data"
    }
   ],
   "source": [
    "train_rf <- randomForest(income ~ ., data = edx)\n",
    "plot(train_rf)"
   ]
  },
  {
   "cell_type": "markdown",
   "metadata": {},
   "source": [
    "From what we see above, we know the more trees does not equal the better. However, the following ggplot should match what we see here"
   ]
  },
  {
   "cell_type": "markdown",
   "metadata": {},
   "source": [
    "We tune the RF model as following"
   ]
  },
  {
   "cell_type": "code",
   "execution_count": 97,
   "metadata": {},
   "outputs": [
    {
     "name": "stderr",
     "output_type": "stream",
     "text": [
      "Warning message in train.default(x, y, weights = w, ...):\n",
      "\"You are trying to do regression and your outcome only has two possible values Are you trying to do classification? If so, use a 2 level factor as your outcome column.\""
     ]
    },
    {
     "data": {},
     "metadata": {},
     "output_type": "display_data"
    },
    {
     "data": {
      "image/png": "[encoded data removed]",
      "text/plain": [
       "plot without title"
      ]
     },
     "metadata": {},
     "output_type": "display_data"
    }
   ],
   "source": [
    "fit_rf <- train(income ~ .,\n",
    "             method=\"Rborist\",\n",
    "             tuneGrid=data.frame(predFixed=5,\n",
    "                                 minNode = seq(3,45)),\n",
    "             data = edx)  \n",
    "ggplot(fit_rf)\n"
   ]
  },
  {
   "cell_type": "markdown",
   "metadata": {},
   "source": [
    "We now have the RMSE for RF model"
   ]
  },
  {
   "cell_type": "code",
   "execution_count": 98,
   "metadata": {},
   "outputs": [
    {
     "name": "stderr",
     "output_type": "stream",
     "text": [
      "Warning message in true_ratings - predicted_ratings:\n",
      "\"longer object length is not a multiple of shorter object length\""
     ]
    },
    {
     "data": {
      "text/plain": [
       "\n",
       "\n",
       "|method              |      RMSE|\n",
       "|:-------------------|---------:|\n",
       "|D-Tree Model        | 0.5085721|\n",
       "|Random Forest Model | 0.5109116|"
      ]
     },
     "metadata": {},
     "output_type": "display_data"
    }
   ],
   "source": [
    "rf_rmse <- RMSE(validation$income, predict(fit_rf))\n",
    "rmse_results <- bind_rows(rmse_results,\n",
    "                          data_frame(method=\"Random Forest Model\",\n",
    "                           RMSE = rf_rmse))\n",
    "rmse_results %>% knitr::kable()"
   ]
  },
  {
   "cell_type": "markdown",
   "metadata": {},
   "source": [
    "### Stochastic Gradient Boosting (Generalized Boosted Modeling)"
   ]
  },
  {
   "cell_type": "code",
   "execution_count": 102,
   "metadata": {},
   "outputs": [
    {
     "name": "stderr",
     "output_type": "stream",
     "text": [
      "Warning message in train.default(x, y, weights = w, ...):\n",
      "\"You are trying to do regression and your outcome only has two possible values Are you trying to do classification? If so, use a 2 level factor as your outcome column.\""
     ]
    },
    {
     "data": {},
     "metadata": {},
     "output_type": "display_data"
    },
    {
     "data": {
      "image/png": "[encoded data removed]",
      "text/plain": [
       "plot without title"
      ]
     },
     "metadata": {},
     "output_type": "display_data"
    }
   ],
   "source": [
    "control <- trainControl(method=\"cv\",number=8,p=0.8)\n",
    "\n",
    "grid <- expand.grid(minNode=c(1,35),predFixed=c(2))\n",
    "\n",
    "fit_gbm <- train(income ~ .,\n",
    "                 data = edx,\n",
    "                 method = \"gbm\",\n",
    "                 metric = \"RMSE\",\n",
    "                 trControl = control,\n",
    "                 verbose = FALSE)\n",
    "                 \n",
    "ggplot(fit_gbm)"
   ]
  },
  {
   "cell_type": "markdown",
   "metadata": {},
   "source": [
    "From what we see here, can we say the Generalized Boosted model is better? Let's check the RMSE below"
   ]
  },
  {
   "cell_type": "markdown",
   "metadata": {},
   "source": [
    "We should now have a comparison for these models"
   ]
  },
  {
   "cell_type": "code",
   "execution_count": 103,
   "metadata": {},
   "outputs": [
    {
     "name": "stderr",
     "output_type": "stream",
     "text": [
      "Warning message in true_ratings - predicted_ratings:\n",
      "\"longer object length is not a multiple of shorter object length\""
     ]
    },
    {
     "data": {
      "text/plain": [
       "\n",
       "\n",
       "|method                  |      RMSE|\n",
       "|:-----------------------|---------:|\n",
       "|D-Tree Model            | 0.5085721|\n",
       "|Random Forest Model     | 0.5109116|\n",
       "|Gradient Boosting Model | 0.5089100|"
      ]
     },
     "metadata": {},
     "output_type": "display_data"
    }
   ],
   "source": [
    "gbm_rmse <- RMSE(validation$income, predict(fit_gbm))\n",
    "rmse_results <- bind_rows(rmse_results,\n",
    "                          data_frame(method=\"Gradient Boosting Model\",\n",
    "                           RMSE = gbm_rmse))\n",
    "rmse_results %>% knitr::kable()"
   ]
  },
  {
   "cell_type": "markdown",
   "metadata": {},
   "source": [
    "But what if we use K-NN?"
   ]
  },
  {
   "cell_type": "code",
   "execution_count": 104,
   "metadata": {},
   "outputs": [
    {
     "name": "stderr",
     "output_type": "stream",
     "text": [
      "Warning message in train.default(x, y, weights = w, ...):\n",
      "\"You are trying to do regression and your outcome only has two possible values Are you trying to do classification? If so, use a 2 level factor as your outcome column.\""
     ]
    },
    {
     "data": {},
     "metadata": {},
     "output_type": "display_data"
    },
    {
     "data": {
      "image/png": "[encoded data removed]",
      "text/plain": [
       "plot without title"
      ]
     },
     "metadata": {},
     "output_type": "display_data"
    }
   ],
   "source": [
    "control <- trainControl(method = \"cv\",number = 9, p=.85)\n",
    "\n",
    "fit_knn <- train(income ~ .,\n",
    "                 data=edx,\n",
    "                 method = \"knn\",\n",
    "                 tuneGrid = data.frame(k=c(1,3,5,7,9)),\n",
    "                 trControl = control)\n",
    "ggplot(fit_knn)"
   ]
  },
  {
   "cell_type": "markdown",
   "metadata": {},
   "source": [
    "So from the ggplot above, we can determine the K number by using \"elbow method\": when K > 2.5"
   ]
  },
  {
   "cell_type": "markdown",
   "metadata": {},
   "source": [
    "We finally have the comparing RMSE values"
   ]
  },
  {
   "cell_type": "code",
   "execution_count": 105,
   "metadata": {},
   "outputs": [
    {
     "name": "stderr",
     "output_type": "stream",
     "text": [
      "Warning message in true_ratings - predicted_ratings:\n",
      "\"longer object length is not a multiple of shorter object length\""
     ]
    },
    {
     "data": {
      "text/plain": [
       "\n",
       "\n",
       "|method                  |      RMSE|\n",
       "|:-----------------------|---------:|\n",
       "|D-Tree Model            | 0.5085721|\n",
       "|Random Forest Model     | 0.5109116|\n",
       "|Gradient Boosting Model | 0.5089100|\n",
       "|K-NN Model              | 0.4762790|"
      ]
     },
     "metadata": {},
     "output_type": "display_data"
    }
   ],
   "source": [
    "knn_rmse <- RMSE(validation$income, predict(fit_knn))\n",
    "rmse_results <- bind_rows(rmse_results,\n",
    "                          data_frame(method=\"K-NN Model\",\n",
    "                           RMSE = knn_rmse))\n",
    "rmse_results %>% knitr::kable()"
   ]
  },
  {
   "cell_type": "markdown",
   "metadata": {},
   "source": [
    "## Conclusion and Discussion"
   ]
  },
  {
   "cell_type": "markdown",
   "metadata": {},
   "source": [
    "In this project, we've built several machine learning models to predict if an individual's annual income exceeds $50,000 or not - by using the given set of variables within the dataset. We use root mean squared error (RMSE) to assess performance. As we've seen, D-Tree, Random Forest and Gradient Boosting model have very close RMSE values: approximate 0.51. But K-NN model appear to be the suitable one with approximate 0.48 RMSE value.\n",
    "\n",
    "Strengths:  By given variables, we built models and evulated them by RMSE. This is able to filter out an algorithm of which it minimizes the RMSE value directly, so that we can use it to predict the independent variable more accurately when compared to other models with higher RMSE values. \n",
    "\n",
    "Weaknesses:  The way that we have to try many different algorithms, and therefore it would be very time consuming - because some model like Random Forest, it has a very long runtime - up to hours even a full day. RMSE is an good indicator to assess a model but maybe not enough to determine a good model. Sensitivity, Specificity, Runtime and Accuracy are also very helpful performance indicators when we want to determine a good model. \n",
    "\n",
    "So, there are rooms to improve - when we use Causal-Relationship to consider our models. For example, the following way we should be able to expect more from a good model.\n"
   ]
  },
  {
   "cell_type": "code",
   "execution_count": 107,
   "metadata": {},
   "outputs": [],
   "source": [
    "# mainly consider the variables with Causal-Relationship\n",
    "covariates_new <- paste(\"age\",\"education_num\",\"sex\",\"dif_hours\",\"cap_gain\",\"cap_loss\", sep = \"+\")\n",
    "form_new <- as.formula(paste(\"income ~\", covariates_new))\n",
    "\n",
    "start_time <- proc.time()\n",
    "glm_model <- glm(formula = form_new, data = edx, family = binomial(link = \"logit\"),\n",
    "                     x = TRUE,y = TRUE)"
   ]
  },
  {
   "cell_type": "code",
   "execution_count": 69,
   "metadata": {},
   "outputs": [
    {
     "data": {
      "text/html": [
       "<dl class=dl-horizontal>\n",
       "\t<dt>age</dt>\n",
       "\t\t<dd>1.01442959987367</dd>\n",
       "\t<dt>education_num</dt>\n",
       "\t\t<dd>1.02433120940609</dd>\n",
       "\t<dt>sex</dt>\n",
       "\t\t<dd>1.03899604599248</dd>\n",
       "\t<dt>native_region</dt>\n",
       "\t\t<dd>1.00102041874055</dd>\n",
       "\t<dt>dif_hours</dt>\n",
       "\t\t<dd>1.02981144482312</dd>\n",
       "\t<dt>cap_gain</dt>\n",
       "\t\t<dd>1.01180462586164</dd>\n",
       "\t<dt>cap_loss</dt>\n",
       "\t\t<dd>1.00321698912127</dd>\n",
       "</dl>\n"
      ],
      "text/latex": [
       "\\begin{description*}\n",
       "\\item[age] 1.01442959987367\n",
       "\\item[education\\textbackslash{}\\_num] 1.02433120940609\n",
       "\\item[sex] 1.03899604599248\n",
       "\\item[native\\textbackslash{}\\_region] 1.00102041874055\n",
       "\\item[dif\\textbackslash{}\\_hours] 1.02981144482312\n",
       "\\item[cap\\textbackslash{}\\_gain] 1.01180462586164\n",
       "\\item[cap\\textbackslash{}\\_loss] 1.00321698912127\n",
       "\\end{description*}\n"
      ],
      "text/markdown": [
       "age\n",
       ":   1.01442959987367education_num\n",
       ":   1.02433120940609sex\n",
       ":   1.03899604599248native_region\n",
       ":   1.00102041874055dif_hours\n",
       ":   1.02981144482312cap_gain\n",
       ":   1.01180462586164cap_loss\n",
       ":   1.00321698912127\n",
       "\n"
      ],
      "text/plain": [
       "          age education_num           sex native_region     dif_hours \n",
       "     1.014430      1.024331      1.038996      1.001020      1.029811 \n",
       "     cap_gain      cap_loss \n",
       "     1.011805      1.003217 "
      ]
     },
     "metadata": {},
     "output_type": "display_data"
    }
   ],
   "source": [
    "car::vif(glm_model)"
   ]
  },
  {
   "cell_type": "code",
   "execution_count": 108,
   "metadata": {},
   "outputs": [
    {
     "name": "stderr",
     "output_type": "stream",
     "text": [
      "Warning message in true_ratings - predicted_ratings:\n",
      "\"longer object length is not a multiple of shorter object length\""
     ]
    },
    {
     "data": {
      "text/plain": [
       "\n",
       "\n",
       "|method                  |      RMSE|\n",
       "|:-----------------------|---------:|\n",
       "|D-Tree Model            | 0.5085721|\n",
       "|Random Forest Model     | 0.5109116|\n",
       "|Gradient Boosting Model | 0.5089100|\n",
       "|K-NN Model              | 0.4762790|\n",
       "|GLM Model               | 0.4846054|"
      ]
     },
     "metadata": {},
     "output_type": "display_data"
    }
   ],
   "source": [
    "predicted_probs <- predict(glm_model, type=\"response\")\n",
    "glm_rmse <- RMSE(validation$income, predicted_probs)\n",
    "rmse_results <- bind_rows(rmse_results,data_frame(method=\"GLM Model\",RMSE = glm_rmse))\n",
    "rmse_results %>% knitr::kable()"
   ]
  },
  {
   "cell_type": "code",
   "execution_count": 114,
   "metadata": {},
   "outputs": [
    {
     "data": {
      "text/html": [
       "0.847398435082446"
      ],
      "text/latex": [
       "0.847398435082446"
      ],
      "text/markdown": [
       "0.847398435082446"
      ],
      "text/plain": [
       "[1] 0.8473984"
      ]
     },
     "metadata": {},
     "output_type": "display_data"
    }
   ],
   "source": [
    "observed_values <- ifelse(edx$income  == \" >50K\", 1, 0)\n",
    "predicted_response <- ifelse(predicted_probs > 0.5, 1, 0)\n",
    "\n",
    "mean(observed_values == predicted_response)"
   ]
  },
  {
   "cell_type": "code",
   "execution_count": 115,
   "metadata": {},
   "outputs": [
    {
     "data": {
      "text/plain": [
       "\n",
       "Call:\n",
       "glm(formula = form_new, family = binomial(link = \"logit\"), data = edx, \n",
       "    x = TRUE, y = TRUE)\n",
       "\n",
       "Deviance Residuals: \n",
       "    Min       1Q   Median       3Q      Max  \n",
       "-3.4421  -0.6324  -0.4134  -0.0700   3.0815  \n",
       "\n",
       "Coefficients:\n",
       "                Estimate Std. Error z value Pr(>|z|)    \n",
       "(Intercept)   -11.868033   0.253815 -46.759  < 2e-16 ***\n",
       "age             0.042345   0.001472  28.759  < 2e-16 ***\n",
       "education_num   0.346454   0.008231  42.093  < 2e-16 ***\n",
       "sex             1.355216   0.047245  28.685  < 2e-16 ***\n",
       "native_region   0.046517   0.028320   1.643      0.1    \n",
       "dif_hours      -0.146611   0.018972  -7.728 1.09e-14 ***\n",
       "cap_gain        2.297994   0.075570  30.409  < 2e-16 ***\n",
       "cap_loss        0.874054   0.060504  14.446  < 2e-16 ***\n",
       "---\n",
       "Signif. codes:  0 '***' 0.001 '**' 0.01 '*' 0.05 '.' 0.1 ' ' 1\n",
       "\n",
       "(Dispersion parameter for binomial family taken to be 1)\n",
       "\n",
       "    Null deviance: 25432  on 22620  degrees of freedom\n",
       "Residual deviance: 18596  on 22613  degrees of freedom\n",
       "AIC: 18612\n",
       "\n",
       "Number of Fisher Scoring iterations: 5\n"
      ]
     },
     "metadata": {},
     "output_type": "display_data"
    }
   ],
   "source": [
    "summary(glm_model)"
   ]
  },
  {
   "cell_type": "code",
   "execution_count": 117,
   "metadata": {},
   "outputs": [
    {
     "data": {
      "text/html": [
       "0.81411078201671"
      ],
      "text/latex": [
       "0.81411078201671"
      ],
      "text/markdown": [
       "0.81411078201671"
      ],
      "text/plain": [
       "[1] 0.8141108"
      ]
     },
     "metadata": {},
     "output_type": "display_data"
    }
   ],
   "source": [
    "## Accuracy:\n",
    "mean(predicted_response == edx$income)"
   ]
  },
  {
   "cell_type": "markdown",
   "metadata": {},
   "source": [
    "#### Thank you!"
   ]
  }
 ],
 "metadata": {
  "kernelspec": {
   "display_name": "R",
   "language": "R",
   "name": "ir"
  },
  "language_info": {
   "codemirror_mode": "r",
   "file_extension": ".r",
   "mimetype": "text/x-r-source",
   "name": "R",
   "pygments_lexer": "r",
   "version": "3.5.1"
  }
 },
 "nbformat": 4,
 "nbformat_minor": 2
}
