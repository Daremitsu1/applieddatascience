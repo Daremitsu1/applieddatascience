{
 "cells": [
  {
   "cell_type": "code",
   "execution_count": null,
   "metadata": {},
   "outputs": [],
   "source": []
  },
  {
   "cell_type": "code",
   "execution_count": 1,
   "metadata": {},
   "outputs": [],
   "source": [
    "import argparse\n",
    "from flask import Flask, jsonify, request\n",
    "from flask import render_template\n",
    "import joblib\n",
    "import socket\n",
    "import json\n",
    "import numpy as np\n",
    "import pandas as pd\n",
    "import os\n",
    "\n",
    "## import model specific functions and variables\n",
    "from model import model_train, model_load, model_predict\n",
    "from model import MODEL_VERSION, MODEL_VERSION_NOTE"
   ]
  },
  {
   "cell_type": "code",
   "execution_count": 3,
   "metadata": {},
   "outputs": [],
   "source": [
    "app = Flask(__name__)\n",
    "\n",
    "@app.route(\"/\")\n",
    "def landing():\n",
    "    return render_template('index.html')\n",
    "\n",
    "@app.route('/index')\n",
    "def index():\n",
    "    return render_template('index.html')\n",
    "\n",
    "@app.route('/dashboard')\n",
    "def dashboard():\n",
    "    return render_template('dashboard.html')\n",
    "\n",
    "@app.route('/running', methods=['POST'])\n",
    "def running():\n",
    "    return render_template('running.html')\n"
   ]
  },
  {
   "cell_type": "code",
   "execution_count": 4,
   "metadata": {},
   "outputs": [],
   "source": [
    "\n",
    "@app.route('/predict', methods=['GET','POST'])\n",
    "def predict():\n",
    "    \"\"\"\n",
    "    basic predict function for the API\n",
    "    \"\"\"\n",
    "\n",
    "    ## input checking\n",
    "    if not request.json:\n",
    "        print(\"ERROR: API (predict): did not receive request data\")\n",
    "        return jsonify([])\n",
    "\n",
    "    if 'query' not in request.json:\n",
    "        print(\"ERROR API (predict): received request, but no 'query' found within\")\n",
    "        return jsonify([])\n",
    "\n",
    "    if 'type' not in request.json:\n",
    "        print(\"WARNING API (predict): received request, but no 'type' was found assuming 'numpy'\")\n",
    "        query_type = 'numpy'\n",
    "\n",
    "    query = request.json['query']\n",
    "        \n",
    "    if request.json['type'] == 'numpy':\n",
    "        query = np.array(query)\n",
    "    else:\n",
    "        print(\"ERROR API (predict): only numpy data types have been implemented\")\n",
    "        return jsonify([])\n",
    "        \n",
    "    ## load model\n",
    "    model = model_load()\n",
    "    \n",
    "    if not model:\n",
    "        print(\"ERROR: model is not available\")\n",
    "        return jsonify([])\n",
    "    \n",
    "    _result = model_predict(query,model)\n",
    "    result = {}\n",
    "\n",
    "    ## convert numpy objects so ensure they are serializable\n",
    "    for key,item in _result.items():\n",
    "        if isinstance(item,np.ndarray):\n",
    "            result[key] = item.tolist()\n",
    "        else:\n",
    "            result[key] = item\n",
    "\n",
    "    return(jsonify(result))"
   ]
  },
  {
   "cell_type": "code",
   "execution_count": null,
   "metadata": {},
   "outputs": [],
   "source": [
    "@app.route('/train', methods=['GET','POST'])\n",
    "def train():\n",
    "    \"\"\"\n",
    "    basic predict function for the API\n",
    "\n",
    "    the 'mode' give you the ability to toggle between a test version and a production verion of training\n",
    "    \"\"\"\n",
    "\n",
    "    if not request.json:\n",
    "        print(\"ERROR: API (train): did not receive request data\")\n",
    "        return jsonify(False)\n",
    "\n",
    "    if 'mode' not in request.json:\n",
    "        print(\"ERROR API (train): received request, but no 'mode' found within\")\n",
    "        return jsonify(False)\n",
    "\n",
    "    print(\"... training model\")\n",
    "    model = model_train(mode=request.json['mode'])\n",
    "    print(\"... training complete\")\n",
    "\n",
    "    return(jsonify(True))\n"
   ]
  },
  {
   "cell_type": "code",
   "execution_count": 5,
   "metadata": {},
   "outputs": [
    {
     "name": "stderr",
     "output_type": "stream",
     "text": [
      "usage: ipykernel_launcher.py [-h] [-d]\n",
      "ipykernel_launcher.py: error: unrecognized arguments: -f C:\\Users\\bista\\AppData\\Roaming\\jupyter\\runtime\\kernel-b2ca2cb5-2c02-4984-952a-9ed1d3de7dbb.json\n"
     ]
    },
    {
     "ename": "SystemExit",
     "evalue": "2",
     "output_type": "error",
     "traceback": [
      "An exception has occurred, use %tb to see the full traceback.\n",
      "\u001b[1;31mSystemExit\u001b[0m\u001b[1;31m:\u001b[0m 2\n"
     ]
    },
    {
     "name": "stderr",
     "output_type": "stream",
     "text": [
      "C:\\Users\\bista\\Anaconda3\\lib\\site-packages\\IPython\\core\\interactiveshell.py:3334: UserWarning: To exit: use 'exit', 'quit', or Ctrl-D.\n",
      "  warn(\"To exit: use 'exit', 'quit', or Ctrl-D.\", stacklevel=1)\n"
     ]
    }
   ],
   "source": [
    "if __name__ == '__main__':\n",
    "\n",
    "\n",
    "    ## parse arguments for debug mode\n",
    "    ap = argparse.ArgumentParser()\n",
    "    ap.add_argument(\"-d\", \"--debug\", action=\"store_true\", help=\"debug flask\")\n",
    "    args = vars(ap.parse_args())\n",
    "\n",
    "    if args[\"debug\"]:\n",
    "        app.run(debug=True, port=8080)\n",
    "    else:\n",
    "        app.run(host='0.0.0.0', threaded=True ,port=8080)\n"
   ]
  },
  {
   "cell_type": "code",
   "execution_count": null,
   "metadata": {},
   "outputs": [],
   "source": []
  },
  {
   "cell_type": "code",
   "execution_count": 6,
   "metadata": {},
   "outputs": [],
   "source": [
    "import time,os,re,csv,sys,uuid,joblib\n",
    "from datetime import date\n",
    "import numpy as np\n",
    "from sklearn import svm\n",
    "from sklearn import datasets\n",
    "from sklearn.model_selection import train_test_split\n",
    "from sklearn.metrics import classification_report"
   ]
  },
  {
   "cell_type": "code",
   "execution_count": 7,
   "metadata": {},
   "outputs": [],
   "source": [
    "## model specific variables (iterate the version and note with each change)\n",
    "MODEL_VERSION = 0.1\n",
    "MODEL_VERSION_NOTE = \"example random forest on toy data\"\n",
    "SAVED_MODEL = \"model-{}.joblib\".format(re.sub(\"\\.\",\"_\",str(MODEL_VERSION)))"
   ]
  },
  {
   "cell_type": "code",
   "execution_count": 8,
   "metadata": {},
   "outputs": [],
   "source": [
    "def fetch_data():\n",
    "    \"\"\"\n",
    "    example function to fetch data for training\n",
    "    \"\"\"\n",
    "    \n",
    "    ## import some data to play with\n",
    "    iris = datasets.load_iris()\n",
    "    X = iris.data[:,:2]\n",
    "    y = iris.target\n",
    "\n",
    "    return(X,y)"
   ]
  },
  {
   "cell_type": "code",
   "execution_count": 9,
   "metadata": {},
   "outputs": [],
   "source": [
    "def model_train(mode=None):\n",
    "    \"\"\"\n",
    "    example funtion to train model\n",
    "    \n",
    "    'mode' -  can be used to subset data essentially simulating a train\n",
    "    \"\"\"\n",
    "\n",
    "    ## data ingestion\n",
    "    X,y = fetch_data()\n",
    "\n",
    "    ## Perform a train-test split\n",
    "    X_train, X_test, y_train, y_test = train_test_split(X, y, test_size=0.33, random_state=42)\n",
    "\n",
    "    ## Specify parameters and model\n",
    "    params = {'C':1.0,'kernel':'linear','gamma':0.5}\n",
    "    clf = svm.SVC(**params,probability=True)\n",
    "\n",
    "    ## fit model on training data\n",
    "    clf = clf.fit(X_train, y_train)\n",
    "    y_pred = clf.predict(X_test)\n",
    "    print(classification_report(y_test,y_pred))\n",
    "\n",
    "    ## retrain using all data\n",
    "    clf.fit(X, y)\n",
    "    print(\"... saving model: {}\".format(SAVED_MODEL))\n",
    "    joblib.dump(clf,SAVED_MODEL)\n"
   ]
  },
  {
   "cell_type": "code",
   "execution_count": 10,
   "metadata": {},
   "outputs": [],
   "source": [
    "def model_load():\n",
    "    \"\"\"\n",
    "    example funtion to load model\n",
    "    \"\"\"\n",
    "\n",
    "    if not os.path.exists(SAVED_MODEL):\n",
    "        raise Exception(\"Model '{}' cannot be found did you train the model?\".format(SAVED_MODEL))\n",
    "    \n",
    "    model = joblib.load(SAVED_MODEL)\n",
    "    return(model)\n"
   ]
  },
  {
   "cell_type": "code",
   "execution_count": 11,
   "metadata": {},
   "outputs": [],
   "source": [
    "def model_predict(query,model=None):\n",
    "    \"\"\"\n",
    "    example funtion to predict from model\n",
    "    \"\"\"\n",
    "\n",
    "    ## load model if needed\n",
    "    if not model:\n",
    "        model = model_load()\n",
    "    \n",
    "    ## output checking\n",
    "    if len(query.shape) == 1:\n",
    "        query = query.reshape(1, -1)\n",
    "    \n",
    "    ## make prediction and gather data for log entry\n",
    "    y_pred = model.predict(query)\n",
    "    y_proba = None\n",
    "    if 'predict_proba' in dir(model) and model.probability == True:\n",
    "        y_proba = model.predict_proba(query)\n",
    "        \n",
    "    return({'y_pred':y_pred,'y_proba':y_proba})\n"
   ]
  },
  {
   "cell_type": "code",
   "execution_count": 12,
   "metadata": {},
   "outputs": [
    {
     "name": "stdout",
     "output_type": "stream",
     "text": [
      "              precision    recall  f1-score   support\n",
      "\n",
      "           0       1.00      1.00      1.00        19\n",
      "           1       0.67      0.53      0.59        15\n",
      "           2       0.63      0.75      0.69        16\n",
      "\n",
      "    accuracy                           0.78        50\n",
      "   macro avg       0.77      0.76      0.76        50\n",
      "weighted avg       0.78      0.78      0.78        50\n",
      "\n",
      "... saving model: model-0_1.joblib\n",
      "predicted: [1]\n",
      "predicted: [2]\n",
      "predicted: [0]\n"
     ]
    }
   ],
   "source": [
    "if __name__ == \"__main__\":\n",
    "\n",
    "    \"\"\"\n",
    "    basic test procedure for model.py\n",
    "    \"\"\"\n",
    "    \n",
    "    ## train the model\n",
    "    model_train()\n",
    "\n",
    "    ## load the model\n",
    "    model = model_load()\n",
    "    \n",
    "    ## example predict\n",
    "    for query in [np.array([[6.1,2.8]]), np.array([[7.7,2.5]]), np.array([[5.8,3.8]])]:\n",
    "        result = model_predict(query,model)\n",
    "        y_pred = result['y_pred']\n",
    "        print(\"predicted: {}\".format(y_pred))\n"
   ]
  },
  {
   "cell_type": "code",
   "execution_count": null,
   "metadata": {},
   "outputs": [],
   "source": []
  },
  {
   "cell_type": "code",
   "execution_count": 13,
   "metadata": {},
   "outputs": [
    {
     "name": "stdout",
     "output_type": "stream",
     "text": [
      "<class 'getopt.GetoptError'>\n",
      "C:\\Users\\bista\\Anaconda3\\lib\\site-packages\\ipykernel_launcher.py-v\n",
      "... the verbose flag (-v) may be used\n"
     ]
    },
    {
     "ename": "SystemExit",
     "evalue": "",
     "output_type": "error",
     "traceback": [
      "An exception has occurred, use %tb to see the full traceback.\n",
      "\u001b[1;31mSystemExit\u001b[0m\n"
     ]
    },
    {
     "name": "stderr",
     "output_type": "stream",
     "text": [
      "C:\\Users\\bista\\Anaconda3\\lib\\site-packages\\IPython\\core\\interactiveshell.py:3334: UserWarning: To exit: use 'exit', 'quit', or Ctrl-D.\n",
      "  warn(\"To exit: use 'exit', 'quit', or Ctrl-D.\", stacklevel=1)\n"
     ]
    }
   ],
   "source": [
    "#!/usr/bin/python \n",
    "\n",
    "import sys\n",
    "import unittest\n",
    "\n",
    "from unittests import *\n",
    "unittest.main()\n"
   ]
  },
  {
   "cell_type": "code",
   "execution_count": null,
   "metadata": {},
   "outputs": [],
   "source": []
  }
 ],
 "metadata": {
  "kernelspec": {
   "display_name": "Python 3",
   "language": "python",
   "name": "python3"
  },
  "language_info": {
   "codemirror_mode": {
    "name": "ipython",
    "version": 3
   },
   "file_extension": ".py",
   "mimetype": "text/x-python",
   "name": "python",
   "nbconvert_exporter": "python",
   "pygments_lexer": "ipython3",
   "version": "3.7.3"
  }
 },
 "nbformat": 4,
 "nbformat_minor": 2
}
